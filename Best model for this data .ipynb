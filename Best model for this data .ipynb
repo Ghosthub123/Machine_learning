{
 "cells": [
  {
   "cell_type": "code",
   "execution_count": 2,
   "metadata": {},
   "outputs": [],
   "source": [
    "import pandas as pd\n",
    "import numpy as np\n",
    "import seaborn as sns\n",
    "import matplotlib.pyplot as plt\n",
    "sns.set_style('whitegrid')\n",
    "import pandas.testing as tm\n",
    "%matplotlib inline"
   ]
  },
  {
   "cell_type": "code",
   "execution_count": 3,
   "metadata": {},
   "outputs": [],
   "source": [
    "heart = pd.read_csv('heart.csv')"
   ]
  },
  {
   "cell_type": "code",
   "execution_count": 4,
   "metadata": {},
   "outputs": [
    {
     "name": "stdout",
     "output_type": "stream",
     "text": [
      "<class 'pandas.core.frame.DataFrame'>\n",
      "RangeIndex: 303 entries, 0 to 302\n",
      "Data columns (total 14 columns):\n",
      " #   Column    Non-Null Count  Dtype  \n",
      "---  ------    --------------  -----  \n",
      " 0   age       303 non-null    int64  \n",
      " 1   sex       303 non-null    int64  \n",
      " 2   cp        303 non-null    int64  \n",
      " 3   trestbps  303 non-null    int64  \n",
      " 4   chol      303 non-null    int64  \n",
      " 5   fbs       303 non-null    int64  \n",
      " 6   restecg   303 non-null    int64  \n",
      " 7   thalach   303 non-null    int64  \n",
      " 8   exang     303 non-null    int64  \n",
      " 9   oldpeak   303 non-null    float64\n",
      " 10  slope     303 non-null    int64  \n",
      " 11  ca        303 non-null    int64  \n",
      " 12  thal      303 non-null    int64  \n",
      " 13  target    303 non-null    int64  \n",
      "dtypes: float64(1), int64(13)\n",
      "memory usage: 33.3 KB\n"
     ]
    }
   ],
   "source": [
    "heart.info()"
   ]
  },
  {
   "cell_type": "code",
   "execution_count": 6,
   "metadata": {},
   "outputs": [
    {
     "data": {
      "text/html": [
       "<div>\n",
       "<style scoped>\n",
       "    .dataframe tbody tr th:only-of-type {\n",
       "        vertical-align: middle;\n",
       "    }\n",
       "\n",
       "    .dataframe tbody tr th {\n",
       "        vertical-align: top;\n",
       "    }\n",
       "\n",
       "    .dataframe thead th {\n",
       "        text-align: right;\n",
       "    }\n",
       "</style>\n",
       "<table border=\"1\" class=\"dataframe\">\n",
       "  <thead>\n",
       "    <tr style=\"text-align: right;\">\n",
       "      <th></th>\n",
       "      <th>age</th>\n",
       "      <th>sex</th>\n",
       "      <th>cp</th>\n",
       "      <th>trestbps</th>\n",
       "      <th>chol</th>\n",
       "      <th>fbs</th>\n",
       "      <th>restecg</th>\n",
       "      <th>thalach</th>\n",
       "      <th>exang</th>\n",
       "      <th>oldpeak</th>\n",
       "      <th>slope</th>\n",
       "      <th>ca</th>\n",
       "      <th>thal</th>\n",
       "      <th>target</th>\n",
       "    </tr>\n",
       "  </thead>\n",
       "  <tbody>\n",
       "    <tr>\n",
       "      <th>0</th>\n",
       "      <td>63</td>\n",
       "      <td>1</td>\n",
       "      <td>3</td>\n",
       "      <td>145</td>\n",
       "      <td>233</td>\n",
       "      <td>1</td>\n",
       "      <td>0</td>\n",
       "      <td>150</td>\n",
       "      <td>0</td>\n",
       "      <td>2.3</td>\n",
       "      <td>0</td>\n",
       "      <td>0</td>\n",
       "      <td>1</td>\n",
       "      <td>1</td>\n",
       "    </tr>\n",
       "    <tr>\n",
       "      <th>1</th>\n",
       "      <td>37</td>\n",
       "      <td>1</td>\n",
       "      <td>2</td>\n",
       "      <td>130</td>\n",
       "      <td>250</td>\n",
       "      <td>0</td>\n",
       "      <td>1</td>\n",
       "      <td>187</td>\n",
       "      <td>0</td>\n",
       "      <td>3.5</td>\n",
       "      <td>0</td>\n",
       "      <td>0</td>\n",
       "      <td>2</td>\n",
       "      <td>1</td>\n",
       "    </tr>\n",
       "    <tr>\n",
       "      <th>2</th>\n",
       "      <td>41</td>\n",
       "      <td>0</td>\n",
       "      <td>1</td>\n",
       "      <td>130</td>\n",
       "      <td>204</td>\n",
       "      <td>0</td>\n",
       "      <td>0</td>\n",
       "      <td>172</td>\n",
       "      <td>0</td>\n",
       "      <td>1.4</td>\n",
       "      <td>2</td>\n",
       "      <td>0</td>\n",
       "      <td>2</td>\n",
       "      <td>1</td>\n",
       "    </tr>\n",
       "    <tr>\n",
       "      <th>3</th>\n",
       "      <td>56</td>\n",
       "      <td>1</td>\n",
       "      <td>1</td>\n",
       "      <td>120</td>\n",
       "      <td>236</td>\n",
       "      <td>0</td>\n",
       "      <td>1</td>\n",
       "      <td>178</td>\n",
       "      <td>0</td>\n",
       "      <td>0.8</td>\n",
       "      <td>2</td>\n",
       "      <td>0</td>\n",
       "      <td>2</td>\n",
       "      <td>1</td>\n",
       "    </tr>\n",
       "    <tr>\n",
       "      <th>4</th>\n",
       "      <td>57</td>\n",
       "      <td>0</td>\n",
       "      <td>0</td>\n",
       "      <td>120</td>\n",
       "      <td>354</td>\n",
       "      <td>0</td>\n",
       "      <td>1</td>\n",
       "      <td>163</td>\n",
       "      <td>1</td>\n",
       "      <td>0.6</td>\n",
       "      <td>2</td>\n",
       "      <td>0</td>\n",
       "      <td>2</td>\n",
       "      <td>1</td>\n",
       "    </tr>\n",
       "  </tbody>\n",
       "</table>\n",
       "</div>"
      ],
      "text/plain": [
       "   age  sex  cp  trestbps  chol  fbs  restecg  thalach  exang  oldpeak  slope  \\\n",
       "0   63    1   3       145   233    1        0      150      0      2.3      0   \n",
       "1   37    1   2       130   250    0        1      187      0      3.5      0   \n",
       "2   41    0   1       130   204    0        0      172      0      1.4      2   \n",
       "3   56    1   1       120   236    0        1      178      0      0.8      2   \n",
       "4   57    0   0       120   354    0        1      163      1      0.6      2   \n",
       "\n",
       "   ca  thal  target  \n",
       "0   0     1       1  \n",
       "1   0     2       1  \n",
       "2   0     2       1  \n",
       "3   0     2       1  \n",
       "4   0     2       1  "
      ]
     },
     "execution_count": 6,
     "metadata": {},
     "output_type": "execute_result"
    }
   ],
   "source": [
    "\n",
    "heart.head()"
   ]
  },
  {
   "cell_type": "code",
   "execution_count": 7,
   "metadata": {},
   "outputs": [
    {
     "data": {
      "text/html": [
       "<div>\n",
       "<style scoped>\n",
       "    .dataframe tbody tr th:only-of-type {\n",
       "        vertical-align: middle;\n",
       "    }\n",
       "\n",
       "    .dataframe tbody tr th {\n",
       "        vertical-align: top;\n",
       "    }\n",
       "\n",
       "    .dataframe thead th {\n",
       "        text-align: right;\n",
       "    }\n",
       "</style>\n",
       "<table border=\"1\" class=\"dataframe\">\n",
       "  <thead>\n",
       "    <tr style=\"text-align: right;\">\n",
       "      <th></th>\n",
       "      <th>age</th>\n",
       "      <th>sex</th>\n",
       "      <th>cp</th>\n",
       "      <th>trestbps</th>\n",
       "      <th>chol</th>\n",
       "      <th>fbs</th>\n",
       "      <th>restecg</th>\n",
       "      <th>thalach</th>\n",
       "      <th>exang</th>\n",
       "      <th>oldpeak</th>\n",
       "      <th>slope</th>\n",
       "      <th>ca</th>\n",
       "      <th>thal</th>\n",
       "      <th>target</th>\n",
       "    </tr>\n",
       "  </thead>\n",
       "  <tbody>\n",
       "    <tr>\n",
       "      <th>count</th>\n",
       "      <td>303.000000</td>\n",
       "      <td>303.000000</td>\n",
       "      <td>303.000000</td>\n",
       "      <td>303.000000</td>\n",
       "      <td>303.000000</td>\n",
       "      <td>303.000000</td>\n",
       "      <td>303.000000</td>\n",
       "      <td>303.000000</td>\n",
       "      <td>303.000000</td>\n",
       "      <td>303.000000</td>\n",
       "      <td>303.000000</td>\n",
       "      <td>303.000000</td>\n",
       "      <td>303.000000</td>\n",
       "      <td>303.000000</td>\n",
       "    </tr>\n",
       "    <tr>\n",
       "      <th>mean</th>\n",
       "      <td>54.366337</td>\n",
       "      <td>0.683168</td>\n",
       "      <td>0.966997</td>\n",
       "      <td>131.623762</td>\n",
       "      <td>246.264026</td>\n",
       "      <td>0.148515</td>\n",
       "      <td>0.528053</td>\n",
       "      <td>149.646865</td>\n",
       "      <td>0.326733</td>\n",
       "      <td>1.039604</td>\n",
       "      <td>1.399340</td>\n",
       "      <td>0.729373</td>\n",
       "      <td>2.313531</td>\n",
       "      <td>0.544554</td>\n",
       "    </tr>\n",
       "    <tr>\n",
       "      <th>std</th>\n",
       "      <td>9.082101</td>\n",
       "      <td>0.466011</td>\n",
       "      <td>1.032052</td>\n",
       "      <td>17.538143</td>\n",
       "      <td>51.830751</td>\n",
       "      <td>0.356198</td>\n",
       "      <td>0.525860</td>\n",
       "      <td>22.905161</td>\n",
       "      <td>0.469794</td>\n",
       "      <td>1.161075</td>\n",
       "      <td>0.616226</td>\n",
       "      <td>1.022606</td>\n",
       "      <td>0.612277</td>\n",
       "      <td>0.498835</td>\n",
       "    </tr>\n",
       "    <tr>\n",
       "      <th>min</th>\n",
       "      <td>29.000000</td>\n",
       "      <td>0.000000</td>\n",
       "      <td>0.000000</td>\n",
       "      <td>94.000000</td>\n",
       "      <td>126.000000</td>\n",
       "      <td>0.000000</td>\n",
       "      <td>0.000000</td>\n",
       "      <td>71.000000</td>\n",
       "      <td>0.000000</td>\n",
       "      <td>0.000000</td>\n",
       "      <td>0.000000</td>\n",
       "      <td>0.000000</td>\n",
       "      <td>0.000000</td>\n",
       "      <td>0.000000</td>\n",
       "    </tr>\n",
       "    <tr>\n",
       "      <th>25%</th>\n",
       "      <td>47.500000</td>\n",
       "      <td>0.000000</td>\n",
       "      <td>0.000000</td>\n",
       "      <td>120.000000</td>\n",
       "      <td>211.000000</td>\n",
       "      <td>0.000000</td>\n",
       "      <td>0.000000</td>\n",
       "      <td>133.500000</td>\n",
       "      <td>0.000000</td>\n",
       "      <td>0.000000</td>\n",
       "      <td>1.000000</td>\n",
       "      <td>0.000000</td>\n",
       "      <td>2.000000</td>\n",
       "      <td>0.000000</td>\n",
       "    </tr>\n",
       "    <tr>\n",
       "      <th>50%</th>\n",
       "      <td>55.000000</td>\n",
       "      <td>1.000000</td>\n",
       "      <td>1.000000</td>\n",
       "      <td>130.000000</td>\n",
       "      <td>240.000000</td>\n",
       "      <td>0.000000</td>\n",
       "      <td>1.000000</td>\n",
       "      <td>153.000000</td>\n",
       "      <td>0.000000</td>\n",
       "      <td>0.800000</td>\n",
       "      <td>1.000000</td>\n",
       "      <td>0.000000</td>\n",
       "      <td>2.000000</td>\n",
       "      <td>1.000000</td>\n",
       "    </tr>\n",
       "    <tr>\n",
       "      <th>75%</th>\n",
       "      <td>61.000000</td>\n",
       "      <td>1.000000</td>\n",
       "      <td>2.000000</td>\n",
       "      <td>140.000000</td>\n",
       "      <td>274.500000</td>\n",
       "      <td>0.000000</td>\n",
       "      <td>1.000000</td>\n",
       "      <td>166.000000</td>\n",
       "      <td>1.000000</td>\n",
       "      <td>1.600000</td>\n",
       "      <td>2.000000</td>\n",
       "      <td>1.000000</td>\n",
       "      <td>3.000000</td>\n",
       "      <td>1.000000</td>\n",
       "    </tr>\n",
       "    <tr>\n",
       "      <th>max</th>\n",
       "      <td>77.000000</td>\n",
       "      <td>1.000000</td>\n",
       "      <td>3.000000</td>\n",
       "      <td>200.000000</td>\n",
       "      <td>564.000000</td>\n",
       "      <td>1.000000</td>\n",
       "      <td>2.000000</td>\n",
       "      <td>202.000000</td>\n",
       "      <td>1.000000</td>\n",
       "      <td>6.200000</td>\n",
       "      <td>2.000000</td>\n",
       "      <td>4.000000</td>\n",
       "      <td>3.000000</td>\n",
       "      <td>1.000000</td>\n",
       "    </tr>\n",
       "  </tbody>\n",
       "</table>\n",
       "</div>"
      ],
      "text/plain": [
       "              age         sex          cp    trestbps        chol         fbs  \\\n",
       "count  303.000000  303.000000  303.000000  303.000000  303.000000  303.000000   \n",
       "mean    54.366337    0.683168    0.966997  131.623762  246.264026    0.148515   \n",
       "std      9.082101    0.466011    1.032052   17.538143   51.830751    0.356198   \n",
       "min     29.000000    0.000000    0.000000   94.000000  126.000000    0.000000   \n",
       "25%     47.500000    0.000000    0.000000  120.000000  211.000000    0.000000   \n",
       "50%     55.000000    1.000000    1.000000  130.000000  240.000000    0.000000   \n",
       "75%     61.000000    1.000000    2.000000  140.000000  274.500000    0.000000   \n",
       "max     77.000000    1.000000    3.000000  200.000000  564.000000    1.000000   \n",
       "\n",
       "          restecg     thalach       exang     oldpeak       slope          ca  \\\n",
       "count  303.000000  303.000000  303.000000  303.000000  303.000000  303.000000   \n",
       "mean     0.528053  149.646865    0.326733    1.039604    1.399340    0.729373   \n",
       "std      0.525860   22.905161    0.469794    1.161075    0.616226    1.022606   \n",
       "min      0.000000   71.000000    0.000000    0.000000    0.000000    0.000000   \n",
       "25%      0.000000  133.500000    0.000000    0.000000    1.000000    0.000000   \n",
       "50%      1.000000  153.000000    0.000000    0.800000    1.000000    0.000000   \n",
       "75%      1.000000  166.000000    1.000000    1.600000    2.000000    1.000000   \n",
       "max      2.000000  202.000000    1.000000    6.200000    2.000000    4.000000   \n",
       "\n",
       "             thal      target  \n",
       "count  303.000000  303.000000  \n",
       "mean     2.313531    0.544554  \n",
       "std      0.612277    0.498835  \n",
       "min      0.000000    0.000000  \n",
       "25%      2.000000    0.000000  \n",
       "50%      2.000000    1.000000  \n",
       "75%      3.000000    1.000000  \n",
       "max      3.000000    1.000000  "
      ]
     },
     "execution_count": 7,
     "metadata": {},
     "output_type": "execute_result"
    }
   ],
   "source": [
    "heart.describe()"
   ]
  },
  {
   "cell_type": "code",
   "execution_count": 17,
   "metadata": {},
   "outputs": [
    {
     "data": {
      "text/plain": [
       "<matplotlib.axes._subplots.AxesSubplot at 0x1e96407f8c8>"
      ]
     },
     "execution_count": 17,
     "metadata": {},
     "output_type": "execute_result"
    },
    {
     "data": {
      "image/png": "[encoded data removed]",
      "text/plain": [
       "<Figure size 432x288 with 1 Axes>"
      ]
     },
     "metadata": {
      "needs_background": "light"
     },
     "output_type": "display_data"
    }
   ],
   "source": [
    "sns.distplot(heart['age'],bins = 30)"
   ]
  },
  {
   "cell_type": "code",
   "execution_count": 18,
   "metadata": {},
   "outputs": [
    {
     "data": {
      "text/plain": [
       "<seaborn.axisgrid.FacetGrid at 0x1e96354c708>"
      ]
     },
     "execution_count": 18,
     "metadata": {},
     "output_type": "execute_result"
    },
    {
     "data": {
      "image/png": "[encoded data removed]",
      "text/plain": [
       "<Figure size 360x360 with 1 Axes>"
      ]
     },
     "metadata": {
      "needs_background": "light"
     },
     "output_type": "display_data"
    }
   ],
   "source": [
    "sns.catplot(x = 'sex',data = heart,kind = 'count')"
   ]
  },
  {
   "cell_type": "code",
   "execution_count": 31,
   "metadata": {
    "scrolled": true
   },
   "outputs": [
    {
     "data": {
      "text/plain": [
       "<seaborn.axisgrid.FacetGrid at 0x1e966031648>"
      ]
     },
     "execution_count": 31,
     "metadata": {},
     "output_type": "execute_result"
    },
    {
     "data": {
      "image/png": "[encoded data removed]",
      "text/plain": [
       "<Figure size 1296x432 with 1 Axes>"
      ]
     },
     "metadata": {
      "needs_background": "light"
     },
     "output_type": "display_data"
    }
   ],
   "source": [
    "\n",
    "fig = sns.FacetGrid(heart,hue = 'sex',sharey = True,aspect = 3,height = 6)\n",
    "fig.map(plt.hist,'age',bins = 30,alpha = 0.7)"
   ]
  },
  {
   "cell_type": "code",
   "execution_count": 33,
   "metadata": {},
   "outputs": [],
   "source": [
    "#LOGISTIC MODEL"
   ]
  },
  {
   "cell_type": "code",
   "execution_count": 34,
   "metadata": {},
   "outputs": [],
   "source": [
    "Xl = heart.drop('target',axis = 1)\n",
    "yl = heart['target']"
   ]
  },
  {
   "cell_type": "code",
   "execution_count": 35,
   "metadata": {},
   "outputs": [],
   "source": [
    "from sklearn.model_selection import train_test_split"
   ]
  },
  {
   "cell_type": "code",
   "execution_count": 36,
   "metadata": {},
   "outputs": [],
   "source": [
    "X_train, X_test, y_train, y_test = train_test_split(Xl,yl,test_size = 0.3,random_state = 101)"
   ]
  },
  {
   "cell_type": "code",
   "execution_count": 37,
   "metadata": {},
   "outputs": [],
   "source": [
    "from sklearn.linear_model import LogisticRegression"
   ]
  },
  {
   "cell_type": "code",
   "execution_count": 38,
   "metadata": {},
   "outputs": [],
   "source": [
    "lg = LogisticRegression()"
   ]
  },
  {
   "cell_type": "code",
   "execution_count": 39,
   "metadata": {},
   "outputs": [
    {
     "name": "stderr",
     "output_type": "stream",
     "text": [
      "C:\\ProgramData\\Anaconda3\\lib\\site-packages\\sklearn\\linear_model\\logistic.py:432: FutureWarning: Default solver will be changed to 'lbfgs' in 0.22. Specify a solver to silence this warning.\n",
      "  FutureWarning)\n"
     ]
    },
    {
     "data": {
      "text/plain": [
       "LogisticRegression(C=1.0, class_weight=None, dual=False, fit_intercept=True,\n",
       "                   intercept_scaling=1, l1_ratio=None, max_iter=100,\n",
       "                   multi_class='warn', n_jobs=None, penalty='l2',\n",
       "                   random_state=None, solver='warn', tol=0.0001, verbose=0,\n",
       "                   warm_start=False)"
      ]
     },
     "execution_count": 39,
     "metadata": {},
     "output_type": "execute_result"
    }
   ],
   "source": [
    "lg.fit(X_train,y_train)"
   ]
  },
  {
   "cell_type": "code",
   "execution_count": 42,
   "metadata": {},
   "outputs": [],
   "source": [
    "predict = lg.predict(X_test)"
   ]
  },
  {
   "cell_type": "code",
   "execution_count": 43,
   "metadata": {},
   "outputs": [],
   "source": [
    "from sklearn.metrics import classification_report,confusion_matrix"
   ]
  },
  {
   "cell_type": "code",
   "execution_count": 44,
   "metadata": {},
   "outputs": [
    {
     "name": "stdout",
     "output_type": "stream",
     "text": [
      "[[35  9]\n",
      " [ 2 45]]\n",
      "/n\n",
      "              precision    recall  f1-score   support\n",
      "\n",
      "           0       0.95      0.80      0.86        44\n",
      "           1       0.83      0.96      0.89        47\n",
      "\n",
      "    accuracy                           0.88        91\n",
      "   macro avg       0.89      0.88      0.88        91\n",
      "weighted avg       0.89      0.88      0.88        91\n",
      "\n"
     ]
    }
   ],
   "source": [
    "print(confusion_matrix(y_test,predict))\n",
    "print('/n')\n",
    "print(classification_report(y_test,predict))"
   ]
  },
  {
   "cell_type": "code",
   "execution_count": 45,
   "metadata": {},
   "outputs": [],
   "source": [
    "# k neighbour"
   ]
  },
  {
   "cell_type": "code",
   "execution_count": 46,
   "metadata": {},
   "outputs": [],
   "source": [
    "from sklearn.neighbors import KNeighborsClassifier"
   ]
  },
  {
   "cell_type": "code",
   "execution_count": 47,
   "metadata": {},
   "outputs": [],
   "source": [
    "Xk = Xl\n",
    "yk = yl\n",
    "Xk_train, Xk_test, yk_train, yk_test = train_test_split(Xk,yk,test_size = 0.3,random_state = 101)"
   ]
  },
  {
   "cell_type": "code",
   "execution_count": 49,
   "metadata": {},
   "outputs": [],
   "source": [
    "err = []\n",
    "for i in range(1,40):\n",
    "    knn = KNeighborsClassifier(n_neighbors=i)\n",
    "    knn.fit(Xk_train,yk_train)\n",
    "    predict_i = knn.predict(Xk_test)\n",
    "    err.append(np.mean(predict_i != yk_test))"
   ]
  },
  {
   "cell_type": "code",
   "execution_count": 53,
   "metadata": {},
   "outputs": [
    {
     "data": {
      "text/plain": [
       "[<matplotlib.lines.Line2D at 0x1e9694afbc8>]"
      ]
     },
     "execution_count": 53,
     "metadata": {},
     "output_type": "execute_result"
    },
    {
     "data": {
      "image/png": "[encoded data removed]",
      "text/plain": [
       "<Figure size 720x432 with 1 Axes>"
      ]
     },
     "metadata": {
      "needs_background": "light"
     },
     "output_type": "display_data"
    }
   ],
   "source": [
    "plt.figure(figsize = (10,6))\n",
    "plt.plot(range(1,40),err,marker = 'o')"
   ]
  },
  {
   "cell_type": "code",
   "execution_count": 56,
   "metadata": {},
   "outputs": [],
   "source": [
    "knn = KNeighborsClassifier(n_neighbors=28)\n",
    "knn.fit(Xk_train,yk_train)\n",
    "predict_i = knn.predict(Xk_test)"
   ]
  },
  {
   "cell_type": "code",
   "execution_count": 57,
   "metadata": {},
   "outputs": [
    {
     "name": "stdout",
     "output_type": "stream",
     "text": [
      "[[28 16]\n",
      " [11 36]]\n",
      "/n\n",
      "              precision    recall  f1-score   support\n",
      "\n",
      "           0       0.72      0.64      0.67        44\n",
      "           1       0.69      0.77      0.73        47\n",
      "\n",
      "    accuracy                           0.70        91\n",
      "   macro avg       0.71      0.70      0.70        91\n",
      "weighted avg       0.70      0.70      0.70        91\n",
      "\n"
     ]
    }
   ],
   "source": [
    "print(confusion_matrix(yk_test,predict_i))\n",
    "print('/n')\n",
    "print(classification_report(yk_test,predict_i))"
   ]
  },
  {
   "cell_type": "code",
   "execution_count": 58,
   "metadata": {},
   "outputs": [],
   "source": [
    "# SUPPORT VECTOR MACHINE"
   ]
  },
  {
   "cell_type": "code",
   "execution_count": 59,
   "metadata": {},
   "outputs": [],
   "source": [
    "from sklearn.svm import SVC"
   ]
  },
  {
   "cell_type": "code",
   "execution_count": 60,
   "metadata": {},
   "outputs": [],
   "source": [
    "scm = SVC()"
   ]
  },
  {
   "cell_type": "code",
   "execution_count": 61,
   "metadata": {},
   "outputs": [
    {
     "name": "stderr",
     "output_type": "stream",
     "text": [
      "C:\\ProgramData\\Anaconda3\\lib\\site-packages\\sklearn\\svm\\base.py:193: FutureWarning: The default value of gamma will change from 'auto' to 'scale' in version 0.22 to account better for unscaled features. Set gamma explicitly to 'auto' or 'scale' to avoid this warning.\n",
      "  \"avoid this warning.\", FutureWarning)\n"
     ]
    },
    {
     "data": {
      "text/plain": [
       "SVC(C=1.0, cache_size=200, class_weight=None, coef0=0.0,\n",
       "    decision_function_shape='ovr', degree=3, gamma='auto_deprecated',\n",
       "    kernel='rbf', max_iter=-1, probability=False, random_state=None,\n",
       "    shrinking=True, tol=0.001, verbose=False)"
      ]
     },
     "execution_count": 61,
     "metadata": {},
     "output_type": "execute_result"
    }
   ],
   "source": [
    "scm.fit(X_train,y_train)"
   ]
  },
  {
   "cell_type": "code",
   "execution_count": 62,
   "metadata": {},
   "outputs": [],
   "source": [
    "pre = scm.predict(X_test)"
   ]
  },
  {
   "cell_type": "code",
   "execution_count": 63,
   "metadata": {},
   "outputs": [
    {
     "name": "stdout",
     "output_type": "stream",
     "text": [
      "[[ 0 44]\n",
      " [ 0 47]]\n",
      "/n\n",
      "              precision    recall  f1-score   support\n",
      "\n",
      "           0       0.00      0.00      0.00        44\n",
      "           1       0.52      1.00      0.68        47\n",
      "\n",
      "    accuracy                           0.52        91\n",
      "   macro avg       0.26      0.50      0.34        91\n",
      "weighted avg       0.27      0.52      0.35        91\n",
      "\n"
     ]
    },
    {
     "name": "stderr",
     "output_type": "stream",
     "text": [
      "C:\\ProgramData\\Anaconda3\\lib\\site-packages\\sklearn\\metrics\\classification.py:1437: UndefinedMetricWarning: Precision and F-score are ill-defined and being set to 0.0 in labels with no predicted samples.\n",
      "  'precision', 'predicted', average, warn_for)\n"
     ]
    }
   ],
   "source": [
    "print(confusion_matrix(y_test,pre))\n",
    "print('/n')\n",
    "print(classification_report(y_test,pre))"
   ]
  },
  {
   "cell_type": "code",
   "execution_count": 64,
   "metadata": {},
   "outputs": [],
   "source": [
    "from sklearn.model_selection import GridSearchCV "
   ]
  },
  {
   "cell_type": "code",
   "execution_count": 65,
   "metadata": {},
   "outputs": [],
   "source": [
    "param = {'C':[0.1,0.01,1,2,10,100,1000,10000],'gamma':[0.001,0.1,0.0001,0.0002,1,0.5,0.0012,0.3]}"
   ]
  },
  {
   "cell_type": "code",
   "execution_count": 69,
   "metadata": {},
   "outputs": [],
   "source": [
    "grr = GridSearchCV(SVC(),param_grid=param,verbose = 3)"
   ]
  },
  {
   "cell_type": "code",
   "execution_count": 70,
   "metadata": {},
   "outputs": [
    {
     "name": "stderr",
     "output_type": "stream",
     "text": [
      "C:\\ProgramData\\Anaconda3\\lib\\site-packages\\sklearn\\model_selection\\_split.py:1978: FutureWarning: The default value of cv will change from 3 to 5 in version 0.22. Specify it explicitly to silence this warning.\n",
      "  warnings.warn(CV_WARNING, FutureWarning)\n",
      "[Parallel(n_jobs=1)]: Using backend SequentialBackend with 1 concurrent workers.\n",
      "[Parallel(n_jobs=1)]: Done   1 out of   1 | elapsed:    0.0s remaining:    0.0s\n",
      "[Parallel(n_jobs=1)]: Done   2 out of   2 | elapsed:    0.0s remaining:    0.0s\n"
     ]
    },
    {
     "name": "stdout",
     "output_type": "stream",
     "text": [
      "Fitting 3 folds for each of 64 candidates, totalling 192 fits\n",
      "[CV] C=0.1, gamma=0.001 ..............................................\n",
      "[CV] .................. C=0.1, gamma=0.001, score=0.556, total=   0.0s\n",
      "[CV] C=0.1, gamma=0.001 ..............................................\n",
      "[CV] .................. C=0.1, gamma=0.001, score=0.557, total=   0.0s\n",
      "[CV] C=0.1, gamma=0.001 ..............................................\n",
      "[CV] .................. C=0.1, gamma=0.001, score=0.557, total=   0.0s\n",
      "[CV] C=0.1, gamma=0.1 ................................................\n",
      "[CV] .................... C=0.1, gamma=0.1, score=0.556, total=   0.0s\n",
      "[CV] C=0.1, gamma=0.1 ................................................\n",
      "[CV] .................... C=0.1, gamma=0.1, score=0.557, total=   0.0s\n",
      "[CV] C=0.1, gamma=0.1 ................................................\n",
      "[CV] .................... C=0.1, gamma=0.1, score=0.557, total=   0.0s\n",
      "[CV] C=0.1, gamma=0.0001 .............................................\n",
      "[CV] ................. C=0.1, gamma=0.0001, score=0.556, total=   0.0s\n",
      "[CV] C=0.1, gamma=0.0001 .............................................\n",
      "[CV] ................. C=0.1, gamma=0.0001, score=0.557, total=   0.0s\n",
      "[CV] C=0.1, gamma=0.0001 .............................................\n",
      "[CV] ................. C=0.1, gamma=0.0001, score=0.557, total=   0.0s\n",
      "[CV] C=0.1, gamma=0.0002 .............................................\n",
      "[CV] ................. C=0.1, gamma=0.0002, score=0.556, total=   0.0s\n",
      "[CV] C=0.1, gamma=0.0002 .............................................\n",
      "[CV] ................. C=0.1, gamma=0.0002, score=0.571, total=   0.0s\n",
      "[CV] C=0.1, gamma=0.0002 .............................................\n",
      "[CV] ................. C=0.1, gamma=0.0002, score=0.557, total=   0.0s\n",
      "[CV] C=0.1, gamma=1 ..................................................\n",
      "[CV] ...................... C=0.1, gamma=1, score=0.556, total=   0.0s\n",
      "[CV] C=0.1, gamma=1 ..................................................\n",
      "[CV] ...................... C=0.1, gamma=1, score=0.557, total=   0.0s\n",
      "[CV] C=0.1, gamma=1 ..................................................\n",
      "[CV] ...................... C=0.1, gamma=1, score=0.557, total=   0.0s\n",
      "[CV] C=0.1, gamma=0.5 ................................................\n",
      "[CV] .................... C=0.1, gamma=0.5, score=0.556, total=   0.0s\n",
      "[CV] C=0.1, gamma=0.5 ................................................\n",
      "[CV] .................... C=0.1, gamma=0.5, score=0.557, total=   0.0s\n",
      "[CV] C=0.1, gamma=0.5 ................................................\n",
      "[CV] .................... C=0.1, gamma=0.5, score=0.557, total=   0.0s\n",
      "[CV] C=0.1, gamma=0.0012 .............................................\n",
      "[CV] ................. C=0.1, gamma=0.0012, score=0.556, total=   0.0s\n",
      "[CV] C=0.1, gamma=0.0012 .............................................\n",
      "[CV] ................. C=0.1, gamma=0.0012, score=0.557, total=   0.0s\n",
      "[CV] C=0.1, gamma=0.0012 .............................................\n",
      "[CV] ................. C=0.1, gamma=0.0012, score=0.557, total=   0.0s\n",
      "[CV] C=0.1, gamma=0.3 ................................................\n",
      "[CV] .................... C=0.1, gamma=0.3, score=0.556, total=   0.0s\n",
      "[CV] C=0.1, gamma=0.3 ................................................\n",
      "[CV] .................... C=0.1, gamma=0.3, score=0.557, total=   0.0s\n",
      "[CV] C=0.1, gamma=0.3 ................................................\n",
      "[CV] .................... C=0.1, gamma=0.3, score=0.557, total=   0.0s\n",
      "[CV] C=0.01, gamma=0.001 .............................................\n",
      "[CV] ................. C=0.01, gamma=0.001, score=0.556, total=   0.0s\n",
      "[CV] C=0.01, gamma=0.001 .............................................\n",
      "[CV] ................. C=0.01, gamma=0.001, score=0.557, total=   0.0s\n",
      "[CV] C=0.01, gamma=0.001 .............................................\n",
      "[CV] ................. C=0.01, gamma=0.001, score=0.557, total=   0.0s\n",
      "[CV] C=0.01, gamma=0.1 ...............................................\n",
      "[CV] ................... C=0.01, gamma=0.1, score=0.556, total=   0.0s\n",
      "[CV] C=0.01, gamma=0.1 ...............................................\n",
      "[CV] ................... C=0.01, gamma=0.1, score=0.557, total=   0.0s\n",
      "[CV] C=0.01, gamma=0.1 ...............................................\n",
      "[CV] ................... C=0.01, gamma=0.1, score=0.557, total=   0.0s\n",
      "[CV] C=0.01, gamma=0.0001 ............................................\n",
      "[CV] ................ C=0.01, gamma=0.0001, score=0.556, total=   0.0s\n",
      "[CV] C=0.01, gamma=0.0001 ............................................\n",
      "[CV] ................ C=0.01, gamma=0.0001, score=0.557, total=   0.0s\n",
      "[CV] C=0.01, gamma=0.0001 ............................................\n",
      "[CV] ................ C=0.01, gamma=0.0001, score=0.557, total=   0.0s\n",
      "[CV] C=0.01, gamma=0.0002 ............................................\n",
      "[CV] ................ C=0.01, gamma=0.0002, score=0.556, total=   0.0s\n",
      "[CV] C=0.01, gamma=0.0002 ............................................\n",
      "[CV] ................ C=0.01, gamma=0.0002, score=0.557, total=   0.0s\n",
      "[CV] C=0.01, gamma=0.0002 ............................................\n",
      "[CV] ................ C=0.01, gamma=0.0002, score=0.557, total=   0.0s\n",
      "[CV] C=0.01, gamma=1 .................................................\n",
      "[CV] ..................... C=0.01, gamma=1, score=0.556, total=   0.0s\n",
      "[CV] C=0.01, gamma=1 .................................................\n",
      "[CV] ..................... C=0.01, gamma=1, score=0.557, total=   0.0s\n",
      "[CV] C=0.01, gamma=1 .................................................\n",
      "[CV] ..................... C=0.01, gamma=1, score=0.557, total=   0.0s\n",
      "[CV] C=0.01, gamma=0.5 ...............................................\n",
      "[CV] ................... C=0.01, gamma=0.5, score=0.556, total=   0.0s\n",
      "[CV] C=0.01, gamma=0.5 ...............................................\n",
      "[CV] ................... C=0.01, gamma=0.5, score=0.557, total=   0.0s\n",
      "[CV] C=0.01, gamma=0.5 ...............................................\n",
      "[CV] ................... C=0.01, gamma=0.5, score=0.557, total=   0.0s\n",
      "[CV] C=0.01, gamma=0.0012 ............................................\n",
      "[CV] ................ C=0.01, gamma=0.0012, score=0.556, total=   0.0s\n",
      "[CV] C=0.01, gamma=0.0012 ............................................\n",
      "[CV] ................ C=0.01, gamma=0.0012, score=0.557, total=   0.0s\n",
      "[CV] C=0.01, gamma=0.0012 ............................................\n",
      "[CV] ................ C=0.01, gamma=0.0012, score=0.557, total=   0.0s\n",
      "[CV] C=0.01, gamma=0.3 ...............................................\n",
      "[CV] ................... C=0.01, gamma=0.3, score=0.556, total=   0.0s\n",
      "[CV] C=0.01, gamma=0.3 ...............................................\n",
      "[CV] ................... C=0.01, gamma=0.3, score=0.557, total=   0.0s\n",
      "[CV] C=0.01, gamma=0.3 ...............................................\n",
      "[CV] ................... C=0.01, gamma=0.3, score=0.557, total=   0.0s\n",
      "[CV] C=1, gamma=0.001 ................................................\n",
      "[CV] .................... C=1, gamma=0.001, score=0.611, total=   0.0s\n",
      "[CV] C=1, gamma=0.001 ................................................\n",
      "[CV] .................... C=1, gamma=0.001, score=0.629, total=   0.0s\n",
      "[CV] C=1, gamma=0.001 ................................................\n",
      "[CV] .................... C=1, gamma=0.001, score=0.543, total=   0.0s\n",
      "[CV] C=1, gamma=0.1 ..................................................\n",
      "[CV] ...................... C=1, gamma=0.1, score=0.556, total=   0.0s\n",
      "[CV] C=1, gamma=0.1 ..................................................\n",
      "[CV] ...................... C=1, gamma=0.1, score=0.557, total=   0.0s\n",
      "[CV] C=1, gamma=0.1 ..................................................\n",
      "[CV] ...................... C=1, gamma=0.1, score=0.557, total=   0.0s\n",
      "[CV] C=1, gamma=0.0001 ...............................................\n",
      "[CV] ................... C=1, gamma=0.0001, score=0.597, total=   0.0s\n",
      "[CV] C=1, gamma=0.0001 ...............................................\n",
      "[CV] ................... C=1, gamma=0.0001, score=0.629, total=   0.0s\n",
      "[CV] C=1, gamma=0.0001 ...............................................\n",
      "[CV] ................... C=1, gamma=0.0001, score=0.614, total=   0.0s\n",
      "[CV] C=1, gamma=0.0002 ...............................................\n",
      "[CV] ................... C=1, gamma=0.0002, score=0.611, total=   0.0s\n",
      "[CV] C=1, gamma=0.0002 ...............................................\n",
      "[CV] ................... C=1, gamma=0.0002, score=0.629, total=   0.0s\n",
      "[CV] C=1, gamma=0.0002 ...............................................\n",
      "[CV] ................... C=1, gamma=0.0002, score=0.600, total=   0.0s\n",
      "[CV] C=1, gamma=1 ....................................................\n",
      "[CV] ........................ C=1, gamma=1, score=0.556, total=   0.0s\n",
      "[CV] C=1, gamma=1 ....................................................\n",
      "[CV] ........................ C=1, gamma=1, score=0.557, total=   0.0s\n",
      "[CV] C=1, gamma=1 ....................................................\n",
      "[CV] ........................ C=1, gamma=1, score=0.557, total=   0.0s\n",
      "[CV] C=1, gamma=0.5 ..................................................\n"
     ]
    },
    {
     "name": "stdout",
     "output_type": "stream",
     "text": [
      "[CV] ...................... C=1, gamma=0.5, score=0.556, total=   0.0s\n",
      "[CV] C=1, gamma=0.5 ..................................................\n",
      "[CV] ...................... C=1, gamma=0.5, score=0.557, total=   0.0s\n",
      "[CV] C=1, gamma=0.5 ..................................................\n",
      "[CV] ...................... C=1, gamma=0.5, score=0.557, total=   0.0s\n",
      "[CV] C=1, gamma=0.0012 ...............................................\n",
      "[CV] ................... C=1, gamma=0.0012, score=0.611, total=   0.0s\n",
      "[CV] C=1, gamma=0.0012 ...............................................\n",
      "[CV] ................... C=1, gamma=0.0012, score=0.571, total=   0.0s\n",
      "[CV] C=1, gamma=0.0012 ...............................................\n",
      "[CV] ................... C=1, gamma=0.0012, score=0.543, total=   0.0s\n",
      "[CV] C=1, gamma=0.3 ..................................................\n",
      "[CV] ...................... C=1, gamma=0.3, score=0.556, total=   0.1s\n",
      "[CV] C=1, gamma=0.3 ..................................................\n",
      "[CV] ...................... C=1, gamma=0.3, score=0.557, total=   0.0s\n",
      "[CV] C=1, gamma=0.3 ..................................................\n",
      "[CV] ...................... C=1, gamma=0.3, score=0.557, total=   0.0s\n",
      "[CV] C=2, gamma=0.001 ................................................\n",
      "[CV] .................... C=2, gamma=0.001, score=0.611, total=   0.0s\n",
      "[CV] C=2, gamma=0.001 ................................................\n",
      "[CV] .................... C=2, gamma=0.001, score=0.571, total=   0.0s\n",
      "[CV] C=2, gamma=0.001 ................................................\n",
      "[CV] .................... C=2, gamma=0.001, score=0.586, total=   0.0s\n",
      "[CV] C=2, gamma=0.1 ..................................................\n",
      "[CV] ...................... C=2, gamma=0.1, score=0.556, total=   0.0s\n",
      "[CV] C=2, gamma=0.1 ..................................................\n",
      "[CV] ...................... C=2, gamma=0.1, score=0.557, total=   0.0s\n",
      "[CV] C=2, gamma=0.1 ..................................................\n",
      "[CV] ...................... C=2, gamma=0.1, score=0.557, total=   0.0s\n",
      "[CV] C=2, gamma=0.0001 ...............................................\n",
      "[CV] ................... C=2, gamma=0.0001, score=0.639, total=   0.0s\n",
      "[CV] C=2, gamma=0.0001 ...............................................\n",
      "[CV] ................... C=2, gamma=0.0001, score=0.643, total=   0.0s\n",
      "[CV] C=2, gamma=0.0001 ...............................................\n",
      "[CV] ................... C=2, gamma=0.0001, score=0.600, total=   0.0s\n",
      "[CV] C=2, gamma=0.0002 ...............................................\n",
      "[CV] ................... C=2, gamma=0.0002, score=0.611, total=   0.0s\n",
      "[CV] C=2, gamma=0.0002 ...............................................\n",
      "[CV] ................... C=2, gamma=0.0002, score=0.671, total=   0.0s\n",
      "[CV] C=2, gamma=0.0002 ...............................................\n",
      "[CV] ................... C=2, gamma=0.0002, score=0.586, total=   0.0s\n",
      "[CV] C=2, gamma=1 ....................................................\n",
      "[CV] ........................ C=2, gamma=1, score=0.556, total=   0.0s\n",
      "[CV] C=2, gamma=1 ....................................................\n",
      "[CV] ........................ C=2, gamma=1, score=0.557, total=   0.0s\n",
      "[CV] C=2, gamma=1 ....................................................\n",
      "[CV] ........................ C=2, gamma=1, score=0.557, total=   0.0s\n",
      "[CV] C=2, gamma=0.5 ..................................................\n",
      "[CV] ...................... C=2, gamma=0.5, score=0.556, total=   0.0s\n",
      "[CV] C=2, gamma=0.5 ..................................................\n",
      "[CV] ...................... C=2, gamma=0.5, score=0.557, total=   0.0s\n",
      "[CV] C=2, gamma=0.5 ..................................................\n",
      "[CV] ...................... C=2, gamma=0.5, score=0.557, total=   0.0s\n",
      "[CV] C=2, gamma=0.0012 ...............................................\n",
      "[CV] ................... C=2, gamma=0.0012, score=0.597, total=   0.0s\n",
      "[CV] C=2, gamma=0.0012 ...............................................\n",
      "[CV] ................... C=2, gamma=0.0012, score=0.571, total=   0.0s\n",
      "[CV] C=2, gamma=0.0012 ...............................................\n",
      "[CV] ................... C=2, gamma=0.0012, score=0.557, total=   0.0s\n",
      "[CV] C=2, gamma=0.3 ..................................................\n",
      "[CV] ...................... C=2, gamma=0.3, score=0.556, total=   0.0s\n",
      "[CV] C=2, gamma=0.3 ..................................................\n",
      "[CV] ...................... C=2, gamma=0.3, score=0.557, total=   0.0s\n",
      "[CV] C=2, gamma=0.3 ..................................................\n",
      "[CV] ...................... C=2, gamma=0.3, score=0.557, total=   0.0s\n",
      "[CV] C=10, gamma=0.001 ...............................................\n",
      "[CV] ................... C=10, gamma=0.001, score=0.639, total=   0.0s\n",
      "[CV] C=10, gamma=0.001 ...............................................\n",
      "[CV] ................... C=10, gamma=0.001, score=0.586, total=   0.0s\n",
      "[CV] C=10, gamma=0.001 ...............................................\n",
      "[CV] ................... C=10, gamma=0.001, score=0.614, total=   0.0s\n",
      "[CV] C=10, gamma=0.1 .................................................\n",
      "[CV] ..................... C=10, gamma=0.1, score=0.556, total=   0.0s\n",
      "[CV] C=10, gamma=0.1 .................................................\n",
      "[CV] ..................... C=10, gamma=0.1, score=0.557, total=   0.0s\n",
      "[CV] C=10, gamma=0.1 .................................................\n",
      "[CV] ..................... C=10, gamma=0.1, score=0.557, total=   0.0s\n",
      "[CV] C=10, gamma=0.0001 ..............................................\n",
      "[CV] .................. C=10, gamma=0.0001, score=0.625, total=   0.0s\n",
      "[CV] C=10, gamma=0.0001 ..............................................\n",
      "[CV] .................. C=10, gamma=0.0001, score=0.657, total=   0.0s\n",
      "[CV] C=10, gamma=0.0001 ..............................................\n",
      "[CV] .................. C=10, gamma=0.0001, score=0.586, total=   0.0s\n",
      "[CV] C=10, gamma=0.0002 ..............................................\n",
      "[CV] .................. C=10, gamma=0.0002, score=0.653, total=   0.0s\n",
      "[CV] C=10, gamma=0.0002 ..............................................\n",
      "[CV] .................. C=10, gamma=0.0002, score=0.614, total=   0.0s\n",
      "[CV] C=10, gamma=0.0002 ..............................................\n",
      "[CV] .................. C=10, gamma=0.0002, score=0.600, total=   0.0s\n",
      "[CV] C=10, gamma=1 ...................................................\n",
      "[CV] ....................... C=10, gamma=1, score=0.556, total=   0.0s\n",
      "[CV] C=10, gamma=1 ...................................................\n",
      "[CV] ....................... C=10, gamma=1, score=0.557, total=   0.0s\n",
      "[CV] C=10, gamma=1 ...................................................\n",
      "[CV] ....................... C=10, gamma=1, score=0.557, total=   0.0s\n",
      "[CV] C=10, gamma=0.5 .................................................\n",
      "[CV] ..................... C=10, gamma=0.5, score=0.556, total=   0.0s\n",
      "[CV] C=10, gamma=0.5 .................................................\n",
      "[CV] ..................... C=10, gamma=0.5, score=0.557, total=   0.0s\n",
      "[CV] C=10, gamma=0.5 .................................................\n",
      "[CV] ..................... C=10, gamma=0.5, score=0.557, total=   0.0s\n",
      "[CV] C=10, gamma=0.0012 ..............................................\n",
      "[CV] .................. C=10, gamma=0.0012, score=0.639, total=   0.0s\n",
      "[CV] C=10, gamma=0.0012 ..............................................\n",
      "[CV] .................. C=10, gamma=0.0012, score=0.600, total=   0.0s\n",
      "[CV] C=10, gamma=0.0012 ..............................................\n",
      "[CV] .................. C=10, gamma=0.0012, score=0.571, total=   0.0s\n",
      "[CV] C=10, gamma=0.3 .................................................\n",
      "[CV] ..................... C=10, gamma=0.3, score=0.556, total=   0.0s\n",
      "[CV] C=10, gamma=0.3 .................................................\n",
      "[CV] ..................... C=10, gamma=0.3, score=0.557, total=   0.0s\n",
      "[CV] C=10, gamma=0.3 .................................................\n",
      "[CV] ..................... C=10, gamma=0.3, score=0.557, total=   0.0s\n",
      "[CV] C=100, gamma=0.001 ..............................................\n",
      "[CV] .................. C=100, gamma=0.001, score=0.625, total=   0.0s\n",
      "[CV] C=100, gamma=0.001 ..............................................\n",
      "[CV] .................. C=100, gamma=0.001, score=0.614, total=   0.0s\n",
      "[CV] C=100, gamma=0.001 ..............................................\n",
      "[CV] .................. C=100, gamma=0.001, score=0.557, total=   0.0s\n",
      "[CV] C=100, gamma=0.1 ................................................\n",
      "[CV] .................... C=100, gamma=0.1, score=0.556, total=   0.0s\n",
      "[CV] C=100, gamma=0.1 ................................................\n",
      "[CV] .................... C=100, gamma=0.1, score=0.557, total=   0.0s\n",
      "[CV] C=100, gamma=0.1 ................................................\n",
      "[CV] .................... C=100, gamma=0.1, score=0.557, total=   0.0s\n",
      "[CV] C=100, gamma=0.0001 .............................................\n",
      "[CV] ................. C=100, gamma=0.0001, score=0.681, total=   0.0s\n",
      "[CV] C=100, gamma=0.0001 .............................................\n",
      "[CV] ................. C=100, gamma=0.0001, score=0.714, total=   0.0s\n",
      "[CV] C=100, gamma=0.0001 .............................................\n",
      "[CV] ................. C=100, gamma=0.0001, score=0.729, total=   0.0s\n",
      "[CV] C=100, gamma=0.0002 .............................................\n",
      "[CV] ................. C=100, gamma=0.0002, score=0.694, total=   0.0s\n",
      "[CV] C=100, gamma=0.0002 .............................................\n"
     ]
    },
    {
     "name": "stdout",
     "output_type": "stream",
     "text": [
      "[CV] ................. C=100, gamma=0.0002, score=0.629, total=   0.0s\n",
      "[CV] C=100, gamma=0.0002 .............................................\n",
      "[CV] ................. C=100, gamma=0.0002, score=0.729, total=   0.0s\n",
      "[CV] C=100, gamma=1 ..................................................\n",
      "[CV] ...................... C=100, gamma=1, score=0.556, total=   0.0s\n",
      "[CV] C=100, gamma=1 ..................................................\n",
      "[CV] ...................... C=100, gamma=1, score=0.557, total=   0.0s\n",
      "[CV] C=100, gamma=1 ..................................................\n",
      "[CV] ...................... C=100, gamma=1, score=0.557, total=   0.0s\n",
      "[CV] C=100, gamma=0.5 ................................................\n",
      "[CV] .................... C=100, gamma=0.5, score=0.556, total=   0.0s\n",
      "[CV] C=100, gamma=0.5 ................................................\n",
      "[CV] .................... C=100, gamma=0.5, score=0.557, total=   0.0s\n",
      "[CV] C=100, gamma=0.5 ................................................\n",
      "[CV] .................... C=100, gamma=0.5, score=0.557, total=   0.0s\n",
      "[CV] C=100, gamma=0.0012 .............................................\n",
      "[CV] ................. C=100, gamma=0.0012, score=0.625, total=   0.0s\n",
      "[CV] C=100, gamma=0.0012 .............................................\n",
      "[CV] ................. C=100, gamma=0.0012, score=0.586, total=   0.0s\n",
      "[CV] C=100, gamma=0.0012 .............................................\n",
      "[CV] ................. C=100, gamma=0.0012, score=0.529, total=   0.0s\n",
      "[CV] C=100, gamma=0.3 ................................................\n",
      "[CV] .................... C=100, gamma=0.3, score=0.556, total=   0.0s\n",
      "[CV] C=100, gamma=0.3 ................................................\n",
      "[CV] .................... C=100, gamma=0.3, score=0.557, total=   0.0s\n",
      "[CV] C=100, gamma=0.3 ................................................\n",
      "[CV] .................... C=100, gamma=0.3, score=0.557, total=   0.0s\n",
      "[CV] C=1000, gamma=0.001 .............................................\n",
      "[CV] ................. C=1000, gamma=0.001, score=0.611, total=   0.0s\n",
      "[CV] C=1000, gamma=0.001 .............................................\n",
      "[CV] ................. C=1000, gamma=0.001, score=0.557, total=   0.0s\n",
      "[CV] C=1000, gamma=0.001 .............................................\n",
      "[CV] ................. C=1000, gamma=0.001, score=0.543, total=   0.0s\n",
      "[CV] C=1000, gamma=0.1 ...............................................\n",
      "[CV] ................... C=1000, gamma=0.1, score=0.556, total=   0.0s\n",
      "[CV] C=1000, gamma=0.1 ...............................................\n",
      "[CV] ................... C=1000, gamma=0.1, score=0.557, total=   0.0s\n",
      "[CV] C=1000, gamma=0.1 ...............................................\n",
      "[CV] ................... C=1000, gamma=0.1, score=0.557, total=   0.0s\n",
      "[CV] C=1000, gamma=0.0001 ............................................\n",
      "[CV] ................ C=1000, gamma=0.0001, score=0.750, total=   0.0s\n",
      "[CV] C=1000, gamma=0.0001 ............................................\n",
      "[CV] ................ C=1000, gamma=0.0001, score=0.657, total=   0.0s\n",
      "[CV] C=1000, gamma=0.0001 ............................................\n",
      "[CV] ................ C=1000, gamma=0.0001, score=0.657, total=   0.0s\n",
      "[CV] C=1000, gamma=0.0002 ............................................\n",
      "[CV] ................ C=1000, gamma=0.0002, score=0.653, total=   0.0s\n",
      "[CV] C=1000, gamma=0.0002 ............................................\n",
      "[CV] ................ C=1000, gamma=0.0002, score=0.700, total=   0.0s\n",
      "[CV] C=1000, gamma=0.0002 ............................................\n",
      "[CV] ................ C=1000, gamma=0.0002, score=0.671, total=   0.0s\n",
      "[CV] C=1000, gamma=1 .................................................\n",
      "[CV] ..................... C=1000, gamma=1, score=0.556, total=   0.0s\n",
      "[CV] C=1000, gamma=1 .................................................\n",
      "[CV] ..................... C=1000, gamma=1, score=0.557, total=   0.0s\n",
      "[CV] C=1000, gamma=1 .................................................\n",
      "[CV] ..................... C=1000, gamma=1, score=0.557, total=   0.0s\n",
      "[CV] C=1000, gamma=0.5 ...............................................\n",
      "[CV] ................... C=1000, gamma=0.5, score=0.556, total=   0.0s\n",
      "[CV] C=1000, gamma=0.5 ...............................................\n",
      "[CV] ................... C=1000, gamma=0.5, score=0.557, total=   0.0s\n",
      "[CV] C=1000, gamma=0.5 ...............................................\n",
      "[CV] ................... C=1000, gamma=0.5, score=0.557, total=   0.0s\n",
      "[CV] C=1000, gamma=0.0012 ............................................\n",
      "[CV] ................ C=1000, gamma=0.0012, score=0.583, total=   0.0s\n",
      "[CV] C=1000, gamma=0.0012 ............................................\n",
      "[CV] ................ C=1000, gamma=0.0012, score=0.557, total=   0.0s\n",
      "[CV] C=1000, gamma=0.0012 ............................................\n",
      "[CV] ................ C=1000, gamma=0.0012, score=0.529, total=   0.0s\n",
      "[CV] C=1000, gamma=0.3 ...............................................\n",
      "[CV] ................... C=1000, gamma=0.3, score=0.556, total=   0.0s\n",
      "[CV] C=1000, gamma=0.3 ...............................................\n",
      "[CV] ................... C=1000, gamma=0.3, score=0.557, total=   0.0s\n",
      "[CV] C=1000, gamma=0.3 ...............................................\n",
      "[CV] ................... C=1000, gamma=0.3, score=0.557, total=   0.0s\n",
      "[CV] C=10000, gamma=0.001 ............................................\n",
      "[CV] ................ C=10000, gamma=0.001, score=0.611, total=   0.0s\n",
      "[CV] C=10000, gamma=0.001 ............................................\n",
      "[CV] ................ C=10000, gamma=0.001, score=0.557, total=   0.0s\n",
      "[CV] C=10000, gamma=0.001 ............................................\n",
      "[CV] ................ C=10000, gamma=0.001, score=0.543, total=   0.0s\n",
      "[CV] C=10000, gamma=0.1 ..............................................\n",
      "[CV] .................. C=10000, gamma=0.1, score=0.556, total=   0.0s\n",
      "[CV] C=10000, gamma=0.1 ..............................................\n",
      "[CV] .................. C=10000, gamma=0.1, score=0.557, total=   0.0s\n",
      "[CV] C=10000, gamma=0.1 ..............................................\n",
      "[CV] .................. C=10000, gamma=0.1, score=0.557, total=   0.0s\n",
      "[CV] C=10000, gamma=0.0001 ...........................................\n",
      "[CV] ............... C=10000, gamma=0.0001, score=0.653, total=   0.1s\n",
      "[CV] C=10000, gamma=0.0001 ...........................................\n",
      "[CV] ............... C=10000, gamma=0.0001, score=0.686, total=   0.0s\n",
      "[CV] C=10000, gamma=0.0001 ...........................................\n",
      "[CV] ............... C=10000, gamma=0.0001, score=0.643, total=   0.0s\n",
      "[CV] C=10000, gamma=0.0002 ...........................................\n",
      "[CV] ............... C=10000, gamma=0.0002, score=0.583, total=   0.0s\n",
      "[CV] C=10000, gamma=0.0002 ...........................................\n",
      "[CV] ............... C=10000, gamma=0.0002, score=0.729, total=   0.0s\n",
      "[CV] C=10000, gamma=0.0002 ...........................................\n",
      "[CV] ............... C=10000, gamma=0.0002, score=0.600, total=   0.0s\n",
      "[CV] C=10000, gamma=1 ................................................\n",
      "[CV] .................... C=10000, gamma=1, score=0.556, total=   0.0s\n",
      "[CV] C=10000, gamma=1 ................................................\n",
      "[CV] .................... C=10000, gamma=1, score=0.557, total=   0.0s\n",
      "[CV] C=10000, gamma=1 ................................................\n",
      "[CV] .................... C=10000, gamma=1, score=0.557, total=   0.0s\n",
      "[CV] C=10000, gamma=0.5 ..............................................\n",
      "[CV] .................. C=10000, gamma=0.5, score=0.556, total=   0.0s\n",
      "[CV] C=10000, gamma=0.5 ..............................................\n",
      "[CV] .................. C=10000, gamma=0.5, score=0.557, total=   0.0s\n",
      "[CV] C=10000, gamma=0.5 ..............................................\n",
      "[CV] .................. C=10000, gamma=0.5, score=0.557, total=   0.0s\n",
      "[CV] C=10000, gamma=0.0012 ...........................................\n",
      "[CV] ............... C=10000, gamma=0.0012, score=0.583, total=   0.0s\n",
      "[CV] C=10000, gamma=0.0012 ...........................................\n",
      "[CV] ............... C=10000, gamma=0.0012, score=0.557, total=   0.0s\n",
      "[CV] C=10000, gamma=0.0012 ...........................................\n",
      "[CV] ............... C=10000, gamma=0.0012, score=0.529, total=   0.0s\n",
      "[CV] C=10000, gamma=0.3 ..............................................\n",
      "[CV] .................. C=10000, gamma=0.3, score=0.556, total=   0.0s\n",
      "[CV] C=10000, gamma=0.3 ..............................................\n",
      "[CV] .................. C=10000, gamma=0.3, score=0.557, total=   0.0s\n",
      "[CV] C=10000, gamma=0.3 ..............................................\n",
      "[CV] .................. C=10000, gamma=0.3, score=0.557, total=   0.0s\n"
     ]
    },
    {
     "name": "stderr",
     "output_type": "stream",
     "text": [
      "[Parallel(n_jobs=1)]: Done 192 out of 192 | elapsed:    1.4s finished\n"
     ]
    },
    {
     "data": {
      "text/plain": [
       "GridSearchCV(cv='warn', error_score='raise-deprecating',\n",
       "             estimator=SVC(C=1.0, cache_size=200, class_weight=None, coef0=0.0,\n",
       "                           decision_function_shape='ovr', degree=3,\n",
       "                           gamma='auto_deprecated', kernel='rbf', max_iter=-1,\n",
       "                           probability=False, random_state=None, shrinking=True,\n",
       "                           tol=0.001, verbose=False),\n",
       "             iid='warn', n_jobs=None,\n",
       "             param_grid={'C': [0.1, 0.01, 1, 2, 10, 100, 1000, 10000],\n",
       "                         'gamma': [0.001, 0.1, 0.0001, 0.0002, 1, 0.5, 0.0012,\n",
       "                                   0.3]},\n",
       "             pre_dispatch='2*n_jobs', refit=True, return_train_score=False,\n",
       "             scoring=None, verbose=3)"
      ]
     },
     "execution_count": 70,
     "metadata": {},
     "output_type": "execute_result"
    }
   ],
   "source": [
    "grr.fit(X_train,y_train)"
   ]
  },
  {
   "cell_type": "code",
   "execution_count": 71,
   "metadata": {},
   "outputs": [
    {
     "data": {
      "text/plain": [
       "SVC(C=100, cache_size=200, class_weight=None, coef0=0.0,\n",
       "    decision_function_shape='ovr', degree=3, gamma=0.0001, kernel='rbf',\n",
       "    max_iter=-1, probability=False, random_state=None, shrinking=True,\n",
       "    tol=0.001, verbose=False)"
      ]
     },
     "execution_count": 71,
     "metadata": {},
     "output_type": "execute_result"
    }
   ],
   "source": [
    "grr.best_estimator_"
   ]
  },
  {
   "cell_type": "code",
   "execution_count": 72,
   "metadata": {},
   "outputs": [
    {
     "data": {
      "text/plain": [
       "{'C': 100, 'gamma': 0.0001}"
      ]
     },
     "execution_count": 72,
     "metadata": {},
     "output_type": "execute_result"
    }
   ],
   "source": [
    "grr.best_params_"
   ]
  },
  {
   "cell_type": "code",
   "execution_count": 73,
   "metadata": {},
   "outputs": [],
   "source": [
    "pre2 = grr.predict(X_test)"
   ]
  },
  {
   "cell_type": "code",
   "execution_count": 74,
   "metadata": {},
   "outputs": [
    {
     "name": "stdout",
     "output_type": "stream",
     "text": [
      "[[32 12]\n",
      " [ 4 43]]\n",
      "/n\n",
      "              precision    recall  f1-score   support\n",
      "\n",
      "           0       0.89      0.73      0.80        44\n",
      "           1       0.78      0.91      0.84        47\n",
      "\n",
      "    accuracy                           0.82        91\n",
      "   macro avg       0.84      0.82      0.82        91\n",
      "weighted avg       0.83      0.82      0.82        91\n",
      "\n"
     ]
    }
   ],
   "source": [
    "print(confusion_matrix(y_test,pre2))\n",
    "print('/n')\n",
    "print(classification_report(y_test,pre2))"
   ]
  },
  {
   "cell_type": "code",
   "execution_count": 75,
   "metadata": {},
   "outputs": [],
   "source": [
    "from sklearn.tree import DecisionTreeClassifier"
   ]
  },
  {
   "cell_type": "code",
   "execution_count": 76,
   "metadata": {},
   "outputs": [],
   "source": [
    "dtc = DecisionTreeClassifier()"
   ]
  },
  {
   "cell_type": "code",
   "execution_count": 77,
   "metadata": {},
   "outputs": [
    {
     "data": {
      "text/plain": [
       "DecisionTreeClassifier(class_weight=None, criterion='gini', max_depth=None,\n",
       "                       max_features=None, max_leaf_nodes=None,\n",
       "                       min_impurity_decrease=0.0, min_impurity_split=None,\n",
       "                       min_samples_leaf=1, min_samples_split=2,\n",
       "                       min_weight_fraction_leaf=0.0, presort=False,\n",
       "                       random_state=None, splitter='best')"
      ]
     },
     "execution_count": 77,
     "metadata": {},
     "output_type": "execute_result"
    }
   ],
   "source": [
    "dtc.fit(X_train,y_train)"
   ]
  },
  {
   "cell_type": "code",
   "execution_count": 79,
   "metadata": {},
   "outputs": [],
   "source": [
    "tree_predict = dtc.predict(X_test)"
   ]
  },
  {
   "cell_type": "code",
   "execution_count": 80,
   "metadata": {},
   "outputs": [
    {
     "name": "stdout",
     "output_type": "stream",
     "text": [
      "[[29 15]\n",
      " [ 2 45]]\n",
      "/n\n",
      "              precision    recall  f1-score   support\n",
      "\n",
      "           0       0.94      0.66      0.77        44\n",
      "           1       0.75      0.96      0.84        47\n",
      "\n",
      "    accuracy                           0.81        91\n",
      "   macro avg       0.84      0.81      0.81        91\n",
      "weighted avg       0.84      0.81      0.81        91\n",
      "\n"
     ]
    }
   ],
   "source": [
    "print(confusion_matrix(y_test,tree_predict))\n",
    "print('/n')\n",
    "print(classification_report(y_test,tree_predict))"
   ]
  },
  {
   "cell_type": "code",
   "execution_count": 103,
   "metadata": {},
   "outputs": [],
   "source": [
    "scores = {'decisiontree':dtc.score(X_test,y_test)*100,\n",
    "          'neighbour':knn.score(Xk_test,yk_test)*100,'logisticregression':lg.score(X_test,y_test)*100,'supportvectormachine':grr.score(X_test,y_test)*100}"
   ]
  },
  {
   "cell_type": "code",
   "execution_count": 105,
   "metadata": {},
   "outputs": [
    {
     "data": {
      "text/plain": [
       "Text(0, 0.5, 'Classification Models')"
      ]
     },
     "execution_count": 105,
     "metadata": {},
     "output_type": "execute_result"
    },
    {
     "data": {
      "image/png": "[encoded data removed]",
      "text/plain": [
       "<Figure size 432x288 with 1 Axes>"
      ]
     },
     "metadata": {
      "needs_background": "light"
     },
     "output_type": "display_data"
    }
   ],
   "source": [
    "sns.barplot(y = list(scores.keys()),x = list(scores.values()))\n",
    "plt.xlabel('Acuuracy Score')\n",
    "plt.ylabel('Classification Models')"
   ]
  },
  {
   "cell_type": "code",
   "execution_count": null,
   "metadata": {},
   "outputs": [],
   "source": []
  }
 ],
 "metadata": {
  "kernelspec": {
   "display_name": "Python 3",
   "language": "python",
   "name": "python3"
  },
  "language_info": {
   "codemirror_mode": {
    "name": "ipython",
    "version": 3
   },
   "file_extension": ".py",
   "mimetype": "text/x-python",
   "name": "python",
   "nbconvert_exporter": "python",
   "pygments_lexer": "ipython3",
   "version": "3.7.4"
  }
 },
 "nbformat": 4,
 "nbformat_minor": 2
}
