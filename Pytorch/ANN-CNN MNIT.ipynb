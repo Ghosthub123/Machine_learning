{
 "cells": [
  {
   "cell_type": "code",
   "execution_count": 1,
   "metadata": {},
   "outputs": [],
   "source": [
    "import pandas as pd\n",
    "import matplotlib.pyplot as plt\n",
    "import numpy as np\n",
    "\n",
    "\n",
    "import torch\n",
    "import torch.nn as nn\n",
    "import torch.nn.functional as F"
   ]
  },
  {
   "cell_type": "code",
   "execution_count": 2,
   "metadata": {},
   "outputs": [],
   "source": [
    "path = \"PYTORCH_NOTEBOOKS/Data\""
   ]
  },
  {
   "cell_type": "code",
   "execution_count": 3,
   "metadata": {},
   "outputs": [],
   "source": [
    "from torchvision import datasets,transforms\n",
    "from torch.utils.data import DataLoader\n",
    "%matplotlib inline"
   ]
  },
  {
   "cell_type": "code",
   "execution_count": 4,
   "metadata": {},
   "outputs": [],
   "source": [
    "transform = transforms.ToTensor()"
   ]
  },
  {
   "cell_type": "code",
   "execution_count": 5,
   "metadata": {},
   "outputs": [],
   "source": [
    "train_data = datasets.MNIST(root = path,train = True,transform = transform)\n",
    "test_data = datasets.MNIST(root = path,train = False,transform = transform)"
   ]
  },
  {
   "cell_type": "code",
   "execution_count": 6,
   "metadata": {},
   "outputs": [],
   "source": [
    "for image,label in train_data:\n",
    "    break"
   ]
  },
  {
   "cell_type": "code",
   "execution_count": 7,
   "metadata": {},
   "outputs": [
    {
     "data": {
      "text/plain": [
       "<matplotlib.image.AxesImage at 0x211ae6c4e88>"
      ]
     },
     "execution_count": 7,
     "metadata": {},
     "output_type": "execute_result"
    },
    {
     "data": {
      "image/png": "[encoded data removed]",
      "text/plain": [
       "<Figure size 432x288 with 1 Axes>"
      ]
     },
     "metadata": {
      "needs_background": "light"
     },
     "output_type": "display_data"
    }
   ],
   "source": [
    "plt.imshow(image.reshape(28,28),cmap = 'gray')"
   ]
  },
  {
   "cell_type": "code",
   "execution_count": 8,
   "metadata": {},
   "outputs": [
    {
     "data": {
      "text/plain": [
       "Dataset MNIST\n",
       "    Number of datapoints: 10000\n",
       "    Root location: PYTORCH_NOTEBOOKS/Data\n",
       "    Split: Test\n",
       "    StandardTransform\n",
       "Transform: ToTensor()"
      ]
     },
     "execution_count": 8,
     "metadata": {},
     "output_type": "execute_result"
    }
   ],
   "source": [
    "test_data"
   ]
  },
  {
   "cell_type": "code",
   "execution_count": 9,
   "metadata": {},
   "outputs": [],
   "source": [
    "train_loader = DataLoader(train_data,batch_size = 100,shuffle = True)\n",
    "test_loader = DataLoader(test_data,batch_size = 500,shuffle  = True)"
   ]
  },
  {
   "cell_type": "code",
   "execution_count": 10,
   "metadata": {},
   "outputs": [
    {
     "data": {
      "text/plain": [
       "torch.utils.data.dataloader.DataLoader"
      ]
     },
     "execution_count": 10,
     "metadata": {},
     "output_type": "execute_result"
    }
   ],
   "source": [
    "type(train_loader)"
   ]
  },
  {
   "cell_type": "code",
   "execution_count": 11,
   "metadata": {},
   "outputs": [],
   "source": [
    "for i,j in train_loader:\n",
    "    break"
   ]
  },
  {
   "cell_type": "code",
   "execution_count": 12,
   "metadata": {},
   "outputs": [
    {
     "data": {
      "text/plain": [
       "<matplotlib.image.AxesImage at 0x211ae94fd48>"
      ]
     },
     "execution_count": 12,
     "metadata": {},
     "output_type": "execute_result"
    },
    {
     "data": {
      "image/png": "[encoded data removed]",
      "text/plain": [
       "<Figure size 432x288 with 1 Axes>"
      ]
     },
     "metadata": {
      "needs_background": "light"
     },
     "output_type": "display_data"
    }
   ],
   "source": [
    "plt.imshow(i[4].reshape(28,28))"
   ]
  },
  {
   "cell_type": "code",
   "execution_count": null,
   "metadata": {},
   "outputs": [],
   "source": []
  },
  {
   "cell_type": "code",
   "execution_count": 13,
   "metadata": {},
   "outputs": [],
   "source": [
    "class MultilayerModel(nn.Module):\n",
    "    def __init__(self,in_l = 784,out_l = 10,layers = [120,84]):\n",
    "        super().__init__()\n",
    "        self.fc1 = nn.Linear(in_l,layers[0])\n",
    "        self.fc2 = nn.Linear(layers[0],layers[1])\n",
    "        self.fc3 = nn.Linear(layers[1],out_l)\n",
    "        \n",
    "    def forward(self,x):\n",
    "        x = F.relu(self.fc1(x))\n",
    "        x = F.relu(self.fc2(x))\n",
    "        x  = self.fc3(x)\n",
    "        return F.log_softmax(x,1)\n",
    "    "
   ]
  },
  {
   "cell_type": "code",
   "execution_count": 14,
   "metadata": {},
   "outputs": [],
   "source": [
    "model = MultilayerModel()"
   ]
  },
  {
   "cell_type": "code",
   "execution_count": 15,
   "metadata": {},
   "outputs": [
    {
     "data": {
      "text/plain": [
       "MultilayerModel(\n",
       "  (fc1): Linear(in_features=784, out_features=120, bias=True)\n",
       "  (fc2): Linear(in_features=120, out_features=84, bias=True)\n",
       "  (fc3): Linear(in_features=84, out_features=10, bias=True)\n",
       ")"
      ]
     },
     "execution_count": 15,
     "metadata": {},
     "output_type": "execute_result"
    }
   ],
   "source": [
    "model"
   ]
  },
  {
   "cell_type": "code",
   "execution_count": 16,
   "metadata": {},
   "outputs": [],
   "source": [
    "criterion = nn.CrossEntropyLoss()\n",
    "optimizer = torch.optim.Adam(model.parameters(),lr = 0.001)"
   ]
  },
  {
   "cell_type": "code",
   "execution_count": 17,
   "metadata": {},
   "outputs": [
    {
     "name": "stdout",
     "output_type": "stream",
     "text": [
      "epoch:  0  batch:  200 [ 20000/60000]  loss: 0.27577889  \\ accuracy:  82.875%\n",
      "epoch:  0  batch:  400 [ 40000/60000]  loss: 0.12821026  \\ accuracy:  87.338%\n",
      "epoch:  0  batch:  600 [ 60000/60000]  loss: 0.16959782  \\ accuracy:  89.475%\n",
      "epoch:  1  batch:  200 [ 20000/60000]  loss: 0.18695801  \\ accuracy:  94.740%\n",
      "epoch:  1  batch:  400 [ 40000/60000]  loss: 0.22513595  \\ accuracy:  95.085%\n",
      "epoch:  1  batch:  600 [ 60000/60000]  loss: 0.14701681  \\ accuracy:  95.267%\n",
      "epoch:  2  batch:  200 [ 20000/60000]  loss: 0.11754944  \\ accuracy:  96.505%\n",
      "epoch:  2  batch:  400 [ 40000/60000]  loss: 0.19960760  \\ accuracy:  96.615%\n",
      "epoch:  2  batch:  600 [ 60000/60000]  loss: 0.07129001  \\ accuracy:  96.697%\n",
      "epoch:  3  batch:  200 [ 20000/60000]  loss: 0.12616484  \\ accuracy:  97.495%\n",
      "epoch:  3  batch:  400 [ 40000/60000]  loss: 0.09267089  \\ accuracy:  97.445%\n",
      "epoch:  3  batch:  600 [ 60000/60000]  loss: 0.10112746  \\ accuracy:  97.425%\n",
      "epoch:  4  batch:  200 [ 20000/60000]  loss: 0.13517797  \\ accuracy:  98.005%\n",
      "epoch:  4  batch:  400 [ 40000/60000]  loss: 0.06341692  \\ accuracy:  97.965%\n",
      "epoch:  4  batch:  600 [ 60000/60000]  loss: 0.12295526  \\ accuracy:  98.008%\n",
      "epoch:  5  batch:  200 [ 20000/60000]  loss: 0.02740829  \\ accuracy:  98.620%\n",
      "epoch:  5  batch:  400 [ 40000/60000]  loss: 0.02907276  \\ accuracy:  98.502%\n",
      "epoch:  5  batch:  600 [ 60000/60000]  loss: 0.05042363  \\ accuracy:  98.397%\n",
      "epoch:  6  batch:  200 [ 20000/60000]  loss: 0.02631471  \\ accuracy:  98.800%\n",
      "epoch:  6  batch:  400 [ 40000/60000]  loss: 0.03521369  \\ accuracy:  98.763%\n",
      "epoch:  6  batch:  600 [ 60000/60000]  loss: 0.02843323  \\ accuracy:  98.753%\n",
      "epoch:  7  batch:  200 [ 20000/60000]  loss: 0.04348122  \\ accuracy:  98.975%\n",
      "epoch:  7  batch:  400 [ 40000/60000]  loss: 0.09528536  \\ accuracy:  99.020%\n",
      "epoch:  7  batch:  600 [ 60000/60000]  loss: 0.07091983  \\ accuracy:  98.960%\n",
      "epoch:  8  batch:  200 [ 20000/60000]  loss: 0.00590636  \\ accuracy:  99.205%\n",
      "epoch:  8  batch:  400 [ 40000/60000]  loss: 0.00681855  \\ accuracy:  99.118%\n",
      "epoch:  8  batch:  600 [ 60000/60000]  loss: 0.00307671  \\ accuracy:  99.112%\n",
      "epoch:  9  batch:  200 [ 20000/60000]  loss: 0.02013705  \\ accuracy:  99.305%\n",
      "epoch:  9  batch:  400 [ 40000/60000]  loss: 0.02628663  \\ accuracy:  99.235%\n",
      "epoch:  9  batch:  600 [ 60000/60000]  loss: 0.01050223  \\ accuracy:  99.207%\n",
      "\n",
      "Duration: 84 seconds\n"
     ]
    }
   ],
   "source": [
    "import time\n",
    "start_time = time.time()\n",
    "\n",
    "epochs = 10\n",
    "train_loss = []\n",
    "train_correct = []\n",
    "test_loss = []\n",
    "test_correct = []\n",
    "for i in range(epochs):\n",
    "    tr_cr=  0\n",
    "    ts_cr = 0\n",
    "    for b,(x_train,y_train) in enumerate(train_loader):\n",
    "        b+=1\n",
    "        y_pred = model(x_train.view(100,-1))\n",
    "        loss = criterion(y_pred,y_train)\n",
    "        predicted = torch.max(y_pred.data,1)[1]\n",
    "        batch_corr = (predicted==y_train).sum()\n",
    "        tr_cr+=batch_corr\n",
    "        \n",
    "        \n",
    "        optimizer.zero_grad()\n",
    "        loss.backward()\n",
    "        optimizer.step()\n",
    "        \n",
    "        if(b%200==0):\n",
    "            print(f'epoch: {i:2}  batch: {b:4} [{100*b:6}/60000]  loss: {loss.item():10.8f}  \\ accuracy: {tr_cr.item()*100/(100*b):7.3f}%')\n",
    "    train_loss.append(loss)\n",
    "    train_correct.append(tr_cr)\n",
    "\n",
    "    with torch.no_grad():\n",
    "                  for ba,(x_test,y_test) in enumerate(test_loader):\n",
    "                        y_eval = model(x_test.view(500,-1))\n",
    "                        predicted = torch.max(y_eval.data,1)[1]\n",
    "                        ts_cr += (predicted == y_test).sum()\n",
    "    loss = criterion(y_eval,y_test)\n",
    "    test_loss.append(loss)\n",
    "    test_correct.append(ts_cr)\n",
    "\n",
    "duration = time.time() - start_time\n",
    "print(f'\\nDuration: {duration:.0f} seconds') # print the time elapsed            "
   ]
  },
  {
   "cell_type": "code",
   "execution_count": 22,
   "metadata": {},
   "outputs": [
    {
     "data": {
      "text/plain": [
       "<matplotlib.legend.Legend at 0x211b188adc8>"
      ]
     },
     "execution_count": 22,
     "metadata": {},
     "output_type": "execute_result"
    },
    {
     "data": {
      "image/png": "[encoded data removed]",
      "text/plain": [
       "<Figure size 432x288 with 1 Axes>"
      ]
     },
     "metadata": {
      "needs_background": "light"
     },
     "output_type": "display_data"
    }
   ],
   "source": [
    "plt.plot([t/600 for t in train_correct],label = 'Train correct')\n",
    "plt.plot([t/100 for t in test_correct],label = 'Test correct')\n",
    "plt.legend()"
   ]
  },
  {
   "cell_type": "code",
   "execution_count": null,
   "metadata": {},
   "outputs": [],
   "source": []
  }
 ],
 "metadata": {
  "kernelspec": {
   "display_name": "Python 3",
   "language": "python",
   "name": "python3"
  },
  "language_info": {
   "codemirror_mode": {
    "name": "ipython",
    "version": 3
   },
   "file_extension": ".py",
   "mimetype": "text/x-python",
   "name": "python",
   "nbconvert_exporter": "python",
   "pygments_lexer": "ipython3",
   "version": "3.7.4"
  }
 },
 "nbformat": 4,
 "nbformat_minor": 2
}
