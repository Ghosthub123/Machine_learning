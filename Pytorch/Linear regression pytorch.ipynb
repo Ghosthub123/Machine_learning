{
 "cells": [
  {
   "cell_type": "code",
   "execution_count": 59,
   "metadata": {},
   "outputs": [],
   "source": [
    "import torch\n",
    "import numpy as np\n",
    "import matplotlib.pyplot as plt\n",
    "%matplotlib inline"
   ]
  },
  {
   "cell_type": "code",
   "execution_count": 60,
   "metadata": {},
   "outputs": [],
   "source": [
    "import torch.nn as nn"
   ]
  },
  {
   "cell_type": "code",
   "execution_count": 61,
   "metadata": {},
   "outputs": [
    {
     "data": {
      "text/plain": [
       "tensor([[ 1.],\n",
       "        [ 2.],\n",
       "        [ 3.],\n",
       "        [ 4.],\n",
       "        [ 5.],\n",
       "        [ 6.],\n",
       "        [ 7.],\n",
       "        [ 8.],\n",
       "        [ 9.],\n",
       "        [10.],\n",
       "        [11.],\n",
       "        [12.],\n",
       "        [13.],\n",
       "        [14.],\n",
       "        [15.],\n",
       "        [16.],\n",
       "        [17.],\n",
       "        [18.],\n",
       "        [19.],\n",
       "        [20.],\n",
       "        [21.],\n",
       "        [22.],\n",
       "        [23.],\n",
       "        [24.],\n",
       "        [25.],\n",
       "        [26.],\n",
       "        [27.],\n",
       "        [28.],\n",
       "        [29.],\n",
       "        [30.],\n",
       "        [31.],\n",
       "        [32.],\n",
       "        [33.],\n",
       "        [34.],\n",
       "        [35.],\n",
       "        [36.],\n",
       "        [37.],\n",
       "        [38.],\n",
       "        [39.],\n",
       "        [40.],\n",
       "        [41.],\n",
       "        [42.],\n",
       "        [43.],\n",
       "        [44.],\n",
       "        [45.],\n",
       "        [46.],\n",
       "        [47.],\n",
       "        [48.],\n",
       "        [49.],\n",
       "        [50.]])"
      ]
     },
     "execution_count": 61,
     "metadata": {},
     "output_type": "execute_result"
    }
   ],
   "source": [
    "X = torch.linspace(1,50,50).reshape(-1,1)\n",
    "X"
   ]
  },
  {
   "cell_type": "code",
   "execution_count": 62,
   "metadata": {},
   "outputs": [
    {
     "data": {
      "text/plain": [
       "tensor([[ 2.],\n",
       "        [ 7.],\n",
       "        [ 2.],\n",
       "        [ 6.],\n",
       "        [ 2.],\n",
       "        [-4.],\n",
       "        [ 2.],\n",
       "        [-5.],\n",
       "        [ 4.],\n",
       "        [ 1.],\n",
       "        [ 2.],\n",
       "        [ 3.],\n",
       "        [ 1.],\n",
       "        [-8.],\n",
       "        [ 5.],\n",
       "        [ 5.],\n",
       "        [-6.],\n",
       "        [ 0.],\n",
       "        [-7.],\n",
       "        [-8.],\n",
       "        [-3.],\n",
       "        [-1.],\n",
       "        [ 2.],\n",
       "        [-6.],\n",
       "        [-3.],\n",
       "        [ 3.],\n",
       "        [ 2.],\n",
       "        [ 3.],\n",
       "        [ 4.],\n",
       "        [ 5.],\n",
       "        [ 1.],\n",
       "        [ 7.],\n",
       "        [ 6.],\n",
       "        [-1.],\n",
       "        [-6.],\n",
       "        [-5.],\n",
       "        [-3.],\n",
       "        [ 7.],\n",
       "        [ 0.],\n",
       "        [ 8.],\n",
       "        [-1.],\n",
       "        [-2.],\n",
       "        [ 2.],\n",
       "        [-8.],\n",
       "        [-1.],\n",
       "        [ 6.],\n",
       "        [-8.],\n",
       "        [-3.],\n",
       "        [-7.],\n",
       "        [-2.]])"
      ]
     },
     "execution_count": 62,
     "metadata": {},
     "output_type": "execute_result"
    }
   ],
   "source": [
    "torch.manual_seed(71)\n",
    "e = torch.randint(-8,9,(50,1),dtype = torch.float)\n",
    "e"
   ]
  },
  {
   "cell_type": "code",
   "execution_count": 63,
   "metadata": {},
   "outputs": [],
   "source": [
    "y = 2*X + 1 + e"
   ]
  },
  {
   "cell_type": "code",
   "execution_count": 64,
   "metadata": {},
   "outputs": [
    {
     "data": {
      "text/plain": [
       "torch.Size([50, 1])"
      ]
     },
     "execution_count": 64,
     "metadata": {},
     "output_type": "execute_result"
    }
   ],
   "source": [
    "y.shape"
   ]
  },
  {
   "cell_type": "code",
   "execution_count": 65,
   "metadata": {},
   "outputs": [
    {
     "data": {
      "text/plain": [
       "array([[ 1.],\n",
       "       [ 2.],\n",
       "       [ 3.],\n",
       "       [ 4.],\n",
       "       [ 5.],\n",
       "       [ 6.],\n",
       "       [ 7.],\n",
       "       [ 8.],\n",
       "       [ 9.],\n",
       "       [10.],\n",
       "       [11.],\n",
       "       [12.],\n",
       "       [13.],\n",
       "       [14.],\n",
       "       [15.],\n",
       "       [16.],\n",
       "       [17.],\n",
       "       [18.],\n",
       "       [19.],\n",
       "       [20.],\n",
       "       [21.],\n",
       "       [22.],\n",
       "       [23.],\n",
       "       [24.],\n",
       "       [25.],\n",
       "       [26.],\n",
       "       [27.],\n",
       "       [28.],\n",
       "       [29.],\n",
       "       [30.],\n",
       "       [31.],\n",
       "       [32.],\n",
       "       [33.],\n",
       "       [34.],\n",
       "       [35.],\n",
       "       [36.],\n",
       "       [37.],\n",
       "       [38.],\n",
       "       [39.],\n",
       "       [40.],\n",
       "       [41.],\n",
       "       [42.],\n",
       "       [43.],\n",
       "       [44.],\n",
       "       [45.],\n",
       "       [46.],\n",
       "       [47.],\n",
       "       [48.],\n",
       "       [49.],\n",
       "       [50.]], dtype=float32)"
      ]
     },
     "execution_count": 65,
     "metadata": {},
     "output_type": "execute_result"
    }
   ],
   "source": [
    "# TO PLOT WE HAVE TO CONVERT INTOO NUMPY\n",
    "X.numpy()"
   ]
  },
  {
   "cell_type": "code",
   "execution_count": 66,
   "metadata": {},
   "outputs": [
    {
     "data": {
      "text/plain": [
       "<matplotlib.collections.PathCollection at 0x196ec0a5cc8>"
      ]
     },
     "execution_count": 66,
     "metadata": {},
     "output_type": "execute_result"
    },
    {
     "data": {
      "image/png": "[encoded data removed]",
      "text/plain": [
       "<Figure size 432x288 with 1 Axes>"
      ]
     },
     "metadata": {
      "needs_background": "light"
     },
     "output_type": "display_data"
    }
   ],
   "source": [
    "plt.scatter(X.numpy(),y.numpy())"
   ]
  },
  {
   "cell_type": "code",
   "execution_count": 67,
   "metadata": {},
   "outputs": [
    {
     "name": "stdout",
     "output_type": "stream",
     "text": [
      "Parameter containing:\n",
      "tensor([[0.1060]], requires_grad=True)\n",
      "Parameter containing:\n",
      "tensor([0.9638], requires_grad=True)\n"
     ]
    }
   ],
   "source": [
    "torch.manual_seed(59)\n",
    "\n",
    "model =  nn.Linear(in_features=1,out_features=1)\n",
    "\n",
    "print(model.weight)\n",
    "print(model.bias)"
   ]
  },
  {
   "cell_type": "code",
   "execution_count": 68,
   "metadata": {},
   "outputs": [],
   "source": [
    "class Model(nn.Module):\n",
    "    def __init__(self,in_features,out_features):\n",
    "        \n",
    "        super().__init__()\n",
    "        self.linear = nn.Linear(in_features,out_features)\n",
    "        \n",
    "    def forward(self,x):\n",
    "        y_pred = self.linear(x)\n",
    "        return y_pred"
   ]
  },
  {
   "cell_type": "code",
   "execution_count": 69,
   "metadata": {},
   "outputs": [
    {
     "name": "stdout",
     "output_type": "stream",
     "text": [
      "Parameter containing:\n",
      "tensor([[0.1060]], requires_grad=True)\n",
      "Parameter containing:\n",
      "tensor([0.9638], requires_grad=True)\n"
     ]
    }
   ],
   "source": [
    "torch.manual_seed(59)\n",
    "model = Model(1,1)\n",
    "\n",
    "print(model.linear.weight)\n",
    "print(model.linear.bias)"
   ]
  },
  {
   "cell_type": "code",
   "execution_count": 70,
   "metadata": {},
   "outputs": [
    {
     "name": "stdout",
     "output_type": "stream",
     "text": [
      "linear.weight \t 0.10597813129425049\n",
      "linear.bias \t 0.9637961387634277\n"
     ]
    }
   ],
   "source": [
    "for name,param in model.named_parameters():\n",
    "    print(name,'\\t',param.item())"
   ]
  },
  {
   "cell_type": "code",
   "execution_count": 71,
   "metadata": {},
   "outputs": [
    {
     "name": "stdout",
     "output_type": "stream",
     "text": [
      "tensor([1.1758], grad_fn=<AddBackward0>)\n"
     ]
    }
   ],
   "source": [
    "x = torch.tensor([2.0])\n",
    "print(model.forward(x))\n"
   ]
  },
  {
   "cell_type": "markdown",
   "metadata": {},
   "source": [
    "# That is z = wx + b (where x is 2 and w and b are weight 0.105 bias 0.96"
   ]
  },
  {
   "cell_type": "code",
   "execution_count": 72,
   "metadata": {},
   "outputs": [
    {
     "data": {
      "text/plain": [
       "tensor([ 0.0000,  1.0204,  2.0408,  3.0612,  4.0816,  5.1020,  6.1224,  7.1429,\n",
       "         8.1633,  9.1837, 10.2041, 11.2245, 12.2449, 13.2653, 14.2857, 15.3061,\n",
       "        16.3265, 17.3469, 18.3673, 19.3878, 20.4082, 21.4286, 22.4490, 23.4694,\n",
       "        24.4898, 25.5102, 26.5306, 27.5510, 28.5714, 29.5918, 30.6122, 31.6327,\n",
       "        32.6531, 33.6735, 34.6939, 35.7143, 36.7347, 37.7551, 38.7755, 39.7959,\n",
       "        40.8163, 41.8367, 42.8571, 43.8776, 44.8980, 45.9184, 46.9388, 47.9592,\n",
       "        48.9796, 50.0000])"
      ]
     },
     "execution_count": 72,
     "metadata": {},
     "output_type": "execute_result"
    }
   ],
   "source": [
    "x1= torch.linspace(0.0,50.0,50)\n",
    "x1"
   ]
  },
  {
   "cell_type": "code",
   "execution_count": 73,
   "metadata": {},
   "outputs": [],
   "source": [
    "w1 = 0.1059\n",
    "b1 = 0.9637\n",
    "y1 = w1*x1 + b1"
   ]
  },
  {
   "cell_type": "code",
   "execution_count": 74,
   "metadata": {},
   "outputs": [
    {
     "data": {
      "text/plain": [
       "tensor([0.9637, 1.0718, 1.1798, 1.2879, 1.3959, 1.5040, 1.6121, 1.7201, 1.8282,\n",
       "        1.9363, 2.0443, 2.1524, 2.2604, 2.3685, 2.4766, 2.5846, 2.6927, 2.8007,\n",
       "        2.9088, 3.0169, 3.1249, 3.2330, 3.3410, 3.4491, 3.5572, 3.6652, 3.7733,\n",
       "        3.8814, 3.9894, 4.0975, 4.2055, 4.3136, 4.4217, 4.5297, 4.6378, 4.7458,\n",
       "        4.8539, 4.9620, 5.0700, 5.1781, 5.2861, 5.3942, 5.5023, 5.6103, 5.7184,\n",
       "        5.8265, 5.9345, 6.0426, 6.1506, 6.2587])"
      ]
     },
     "execution_count": 74,
     "metadata": {},
     "output_type": "execute_result"
    }
   ],
   "source": [
    "y1"
   ]
  },
  {
   "cell_type": "code",
   "execution_count": 75,
   "metadata": {},
   "outputs": [
    {
     "data": {
      "text/plain": [
       "<matplotlib.collections.PathCollection at 0x196ebd81108>"
      ]
     },
     "execution_count": 75,
     "metadata": {},
     "output_type": "execute_result"
    },
    {
     "data": {
      "image/png": "[encoded data removed]",
      "text/plain": [
       "<Figure size 432x288 with 1 Axes>"
      ]
     },
     "metadata": {
      "needs_background": "light"
     },
     "output_type": "display_data"
    }
   ],
   "source": [
    "plt.plot(x1,y1,'r')\n",
    "plt.scatter(X.numpy(),y.numpy())"
   ]
  },
  {
   "cell_type": "code",
   "execution_count": null,
   "metadata": {},
   "outputs": [],
   "source": []
  },
  {
   "cell_type": "code",
   "execution_count": 76,
   "metadata": {},
   "outputs": [],
   "source": [
    "# SETTING LERNING PARAMS?"
   ]
  },
  {
   "cell_type": "code",
   "execution_count": 77,
   "metadata": {},
   "outputs": [],
   "source": [
    "criterion = nn.MSELoss()\n",
    "optimizer = torch.optim.SGD(model.parameters(),lr = 0.001)\n"
   ]
  },
  {
   "cell_type": "code",
   "execution_count": null,
   "metadata": {},
   "outputs": [],
   "source": []
  },
  {
   "cell_type": "code",
   "execution_count": 78,
   "metadata": {},
   "outputs": [
    {
     "name": "stdout",
     "output_type": "stream",
     "text": [
      "epochs : 1 , loss : 3057.216796875 Weight : 0.10597813129425049 , Bias = 0.9637961387634277\n",
      "epochs : 2 , loss : 1588.5311279296875 Weight : 3.334900379180908 , Bias = 1.0604636669158936\n",
      "epochs : 3 , loss : 830.2999877929688 Weight : 1.0148327350616455 , Bias = 0.9922628402709961\n",
      "epochs : 4 , loss : 438.8524169921875 Weight : 2.6817996501922607 , Bias = 1.0425218343734741\n",
      "epochs : 5 , loss : 236.7615203857422 Weight : 1.4840211868286133 , Bias = 1.0076650381088257\n",
      "epochs : 6 , loss : 132.4291229248047 Weight : 2.3446059226989746 , Bias = 1.0339646339416504\n",
      "epochs : 7 , loss : 78.56572723388672 Weight : 1.7262253761291504 , Bias = 1.0163217782974243\n",
      "epochs : 8 , loss : 50.75775909423828 Weight : 2.170504093170166 , Bias = 1.0302516222000122\n",
      "epochs : 9 , loss : 36.4012565612793 Weight : 1.851245641708374 , Bias = 1.0214954614639282\n",
      "epochs : 10 , loss : 28.989229202270508 Weight : 2.0806007385253906 , Bias = 1.029038906097412\n",
      "epochs : 11 , loss : 25.162382125854492 Weight : 1.9157683849334717 , Bias = 1.0248701572418213\n",
      "epochs : 12 , loss : 23.186473846435547 Weight : 2.034165620803833 , Bias = 1.0291162729263306\n",
      "epochs : 13 , loss : 22.166126251220703 Weight : 1.9490584135055542 , Bias = 1.027315616607666\n",
      "epochs : 14 , loss : 21.639110565185547 Weight : 2.010172128677368 , Bias = 1.0298590660095215\n",
      "epochs : 15 , loss : 21.366771697998047 Weight : 1.9662237167358398 , Bias = 1.0292805433273315\n",
      "epochs : 16 , loss : 21.22591781616211 Weight : 1.997764229774475 , Bias = 1.030944585800171\n",
      "epochs : 17 , loss : 21.15294647216797 Weight : 1.9750648736953735 , Bias = 1.0309966802597046\n",
      "epochs : 18 , loss : 21.115009307861328 Weight : 1.991337537765503 , Bias = 1.032206416130066\n",
      "epochs : 19 , loss : 21.095176696777344 Weight : 1.9796085357666016 , Bias = 1.0325838327407837\n",
      "epochs : 20 , loss : 21.084684371948242 Weight : 1.9879988431930542 , Bias = 1.0335586071014404\n",
      "epochs : 21 , loss : 21.07901382446289 Weight : 1.981933355331421 , Bias = 1.034103512763977\n",
      "epochs : 22 , loss : 21.075830459594727 Weight : 1.9862544536590576 , Bias = 1.034956693649292\n",
      "epochs : 23 , loss : 21.073938369750977 Weight : 1.9831126928329468 , Bias = 1.0355877876281738\n",
      "epochs : 24 , loss : 21.07270050048828 Weight : 1.9853330850601196 , Bias = 1.0363779067993164\n",
      "epochs : 25 , loss : 21.071819305419922 Weight : 1.9837009906768799 , Bias = 1.037053108215332\n",
      "epochs : 26 , loss : 21.07110595703125 Weight : 1.9848365783691406 , Bias = 1.037810206413269\n",
      "epochs : 27 , loss : 21.070486068725586 Weight : 1.9839837551116943 , Bias = 1.0385079383850098\n",
      "epochs : 28 , loss : 21.069913864135742 Weight : 1.9845597743988037 , Bias = 1.039247751235962\n",
      "epochs : 29 , loss : 21.069368362426758 Weight : 1.9841090440750122 , Bias = 1.0399566888809204\n",
      "epochs : 30 , loss : 21.068838119506836 Weight : 1.9843961000442505 , Bias = 1.0406872034072876\n",
      "epochs : 31 , loss : 21.068307876586914 Weight : 1.984152913093567 , Bias = 1.0414016246795654\n",
      "epochs : 32 , loss : 21.067781448364258 Weight : 1.9842908382415771 , Bias = 1.042127013206482\n",
      "epochs : 33 , loss : 21.0672607421875 Weight : 1.9841549396514893 , Bias = 1.0428439378738403\n",
      "epochs : 34 , loss : 21.066740036010742 Weight : 1.9842157363891602 , Bias = 1.043566346168518\n",
      "epochs : 35 , loss : 21.066225051879883 Weight : 1.9841355085372925 , Bias = 1.0442842245101929\n",
      "epochs : 36 , loss : 21.06570816040039 Weight : 1.9841564893722534 , Bias = 1.0450047254562378\n",
      "epochs : 37 , loss : 21.065187454223633 Weight : 1.9841045141220093 , Bias = 1.0457227230072021\n",
      "epochs : 38 , loss : 21.064668655395508 Weight : 1.9841052293777466 , Bias = 1.046441912651062\n",
      "epochs : 39 , loss : 21.064157485961914 Weight : 1.9840680360794067 , Bias = 1.0471596717834473\n",
      "epochs : 40 , loss : 21.063636779785156 Weight : 1.984058141708374 , Bias = 1.0478779077529907\n",
      "epochs : 41 , loss : 21.063125610351562 Weight : 1.984028697013855 , Bias = 1.0485951900482178\n",
      "epochs : 42 , loss : 21.062606811523438 Weight : 1.9840131998062134 , Bias = 1.0493125915527344\n",
      "epochs : 43 , loss : 21.062095642089844 Weight : 1.98398756980896 , Bias = 1.0500292778015137\n",
      "epochs : 44 , loss : 21.06157684326172 Weight : 1.9839695692062378 , Bias = 1.0507458448410034\n",
      "epochs : 45 , loss : 21.06106948852539 Weight : 1.9839458465576172 , Bias = 1.051461935043335\n",
      "epochs : 46 , loss : 21.06055450439453 Weight : 1.9839262962341309 , Bias = 1.0521777868270874\n",
      "epochs : 47 , loss : 21.060043334960938 Weight : 1.9839037656784058 , Bias = 1.0528931617736816\n",
      "epochs : 48 , loss : 21.059532165527344 Weight : 1.9838833808898926 , Bias = 1.0536082983016968\n",
      "epochs : 49 , loss : 21.05901336669922 Weight : 1.9838614463806152 , Bias = 1.0543230772018433\n",
      "epochs : 50 , loss : 21.058509826660156 Weight : 1.9838409423828125 , Bias = 1.055037498474121\n"
     ]
    }
   ],
   "source": [
    "epochs = 50\n",
    "losses = []\n",
    "for i in  range(epochs):\n",
    "    i+=1\n",
    "    \n",
    "    y_pred = model.forward(X)\n",
    "    \n",
    "    loss = criterion(y_pred,y)\n",
    "    \n",
    "    losses.append(loss)\n",
    "    \n",
    "    print(f\"epochs : {i} , loss : {loss} Weight : {model.linear.weight.item()} , Bias = {model.linear.bias.item()}\")\n",
    "    \n",
    "    optimizer.zero_grad()\n",
    "    \n",
    "    loss.backward()\n",
    "    \n",
    "    optimizer.step()"
   ]
  },
  {
   "cell_type": "code",
   "execution_count": 79,
   "metadata": {},
   "outputs": [
    {
     "data": {
      "text/plain": [
       "Text(0.5, 0, 'Epoch')"
      ]
     },
     "execution_count": 79,
     "metadata": {},
     "output_type": "execute_result"
    },
    {
     "data": {
      "image/png": "[encoded data removed]",
      "text/plain": [
       "<Figure size 432x288 with 1 Axes>"
      ]
     },
     "metadata": {
      "needs_background": "light"
     },
     "output_type": "display_data"
    }
   ],
   "source": [
    "plt.plot(range(epochs),losses)\n",
    "plt.ylabel(\"MSE LOSS\")\n",
    "plt.xlabel('Epoch')"
   ]
  },
  {
   "cell_type": "code",
   "execution_count": 80,
   "metadata": {},
   "outputs": [],
   "source": [
    "x = np.linspace(0.0,50.0,50)\n",
    "current_weight = model.linear.weight.item()\n",
    "current_bias = model.linear.bias.item()\n",
    "\n",
    "predicted_y = current_weight*x + current_bias"
   ]
  },
  {
   "cell_type": "code",
   "execution_count": 1,
   "metadata": {},
   "outputs": [
    {
     "ename": "NameError",
     "evalue": "name 'plt' is not defined",
     "output_type": "error",
     "traceback": [
      "\u001b[1;31m---------------------------------------------------------------------------\u001b[0m",
      "\u001b[1;31mNameError\u001b[0m                                 Traceback (most recent call last)",
      "\u001b[1;32m<ipython-input-1-61b568eb6f8f>\u001b[0m in \u001b[0;36m<module>\u001b[1;34m\u001b[0m\n\u001b[1;32m----> 1\u001b[1;33m \u001b[0mplt\u001b[0m\u001b[1;33m.\u001b[0m\u001b[0mscatter\u001b[0m\u001b[1;33m(\u001b[0m\u001b[0mX\u001b[0m\u001b[1;33m.\u001b[0m\u001b[0mnumpy\u001b[0m\u001b[1;33m(\u001b[0m\u001b[1;33m)\u001b[0m\u001b[1;33m,\u001b[0m\u001b[0my\u001b[0m\u001b[1;33m.\u001b[0m\u001b[0mnumpy\u001b[0m\u001b[1;33m(\u001b[0m\u001b[1;33m)\u001b[0m\u001b[1;33m)\u001b[0m\u001b[1;33m\u001b[0m\u001b[1;33m\u001b[0m\u001b[0m\n\u001b[0m\u001b[0;32m      2\u001b[0m \u001b[0mplt\u001b[0m\u001b[1;33m.\u001b[0m\u001b[0mplot\u001b[0m\u001b[1;33m(\u001b[0m\u001b[0mx\u001b[0m\u001b[1;33m,\u001b[0m\u001b[0mpredicted_y\u001b[0m\u001b[1;33m,\u001b[0m\u001b[1;34m'r'\u001b[0m\u001b[1;33m)\u001b[0m\u001b[1;33m\u001b[0m\u001b[1;33m\u001b[0m\u001b[0m\n",
      "\u001b[1;31mNameError\u001b[0m: name 'plt' is not defined"
     ]
    }
   ],
   "source": [
    "plt.scatter(X.numpy(),y.numpy())\n",
    "plt.plot(x,predicted_y,'r')"
   ]
  },
  {
   "cell_type": "code",
   "execution_count": null,
   "metadata": {},
   "outputs": [],
   "source": []
  },
  {
   "cell_type": "code",
   "execution_count": null,
   "metadata": {},
   "outputs": [],
   "source": []
  },
  {
   "cell_type": "code",
   "execution_count": null,
   "metadata": {},
   "outputs": [],
   "source": []
  }
 ],
 "metadata": {
  "kernelspec": {
   "display_name": "Python 3",
   "language": "python",
   "name": "python3"
  },
  "language_info": {
   "codemirror_mode": {
    "name": "ipython",
    "version": 3
   },
   "file_extension": ".py",
   "mimetype": "text/x-python",
   "name": "python",
   "nbconvert_exporter": "python",
   "pygments_lexer": "ipython3",
   "version": "3.7.4"
  }
 },
 "nbformat": 4,
 "nbformat_minor": 2
}
